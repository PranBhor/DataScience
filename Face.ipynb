{
 "cells": [
  {
   "cell_type": "code",
   "execution_count": 17,
   "id": "4a16aa9f",
   "metadata": {},
   "outputs": [],
   "source": [
    "import cv2\n",
    "from PIL import Image\n",
    "import requests"
   ]
  },
  {
   "cell_type": "code",
   "execution_count": 18,
   "id": "6bb9dce2",
   "metadata": {},
   "outputs": [],
   "source": [
    "face_Cascade = cv2.CascadeClassifier(r\"C:\\Users\\HP\\Downloads\\haarcascade_frontalface_default.xml\")"
   ]
  },
  {
   "cell_type": "code",
   "execution_count": 19,
   "id": "0260095d",
   "metadata": {},
   "outputs": [],
   "source": [
    "image = cv2.imread(r'C:\\Users\\HP\\Downloads\\qd.jpg')"
   ]
  },
  {
   "cell_type": "code",
   "execution_count": 20,
   "id": "cec73f29",
   "metadata": {},
   "outputs": [
    {
     "data": {
      "text/plain": [
       "-1"
      ]
     },
     "execution_count": 20,
     "metadata": {},
     "output_type": "execute_result"
    }
   ],
   "source": [
    "cv2.imshow(\"Result\", image)\n",
    "cv2.waitKey(0)"
   ]
  },
  {
   "cell_type": "code",
   "execution_count": 21,
   "id": "f68aa359",
   "metadata": {},
   "outputs": [],
   "source": [
    "imgGray = cv2.cvtColor(image, cv2.COLOR_BGR2GRAY)"
   ]
  },
  {
   "cell_type": "code",
   "execution_count": 22,
   "id": "92d36b17",
   "metadata": {},
   "outputs": [],
   "source": [
    "faces = face_Cascade.detectMultiScale(imgGray,1.1, 4)"
   ]
  },
  {
   "cell_type": "code",
   "execution_count": 23,
   "id": "13c77a2f",
   "metadata": {},
   "outputs": [],
   "source": [
    "for (x, y, w, h) in faces:\n",
    "    cv2.rectangle(image, (x, y), (x + w, y + h), (255, 0, 0), 2)"
   ]
  },
  {
   "cell_type": "code",
   "execution_count": 24,
   "id": "6557a643",
   "metadata": {},
   "outputs": [
    {
     "data": {
      "text/plain": [
       "-1"
      ]
     },
     "execution_count": 24,
     "metadata": {},
     "output_type": "execute_result"
    }
   ],
   "source": [
    "cv2.imshow(\"Result\", image)\n",
    "cv2.waitKey(0)"
   ]
  },
  {
   "cell_type": "code",
   "execution_count": 25,
   "id": "30e74509",
   "metadata": {},
   "outputs": [
    {
     "name": "stdout",
     "output_type": "stream",
     "text": [
      "Face Counts 2\n"
     ]
    }
   ],
   "source": [
    "print(\"Face Counts\",len(faces))"
   ]
  },
  {
   "cell_type": "code",
   "execution_count": null,
   "id": "ad717f7e",
   "metadata": {},
   "outputs": [],
   "source": []
  }
 ],
 "metadata": {
  "kernelspec": {
   "display_name": "Python 3",
   "language": "python",
   "name": "python3"
  },
  "language_info": {
   "codemirror_mode": {
    "name": "ipython",
    "version": 3
   },
   "file_extension": ".py",
   "mimetype": "text/x-python",
   "name": "python",
   "nbconvert_exporter": "python",
   "pygments_lexer": "ipython3",
   "version": "3.8.8"
  }
 },
 "nbformat": 4,
 "nbformat_minor": 5
}
