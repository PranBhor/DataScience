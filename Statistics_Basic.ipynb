{
  "nbformat": 4,
  "nbformat_minor": 0,
  "metadata": {
    "colab": {
      "name": "Statistics_Basic.ipynb",
      "provenance": [],
      "authorship_tag": "ABX9TyOBsNB3rPSXBmcQGyynhIKk",
      "include_colab_link": true
    },
    "kernelspec": {
      "name": "python3",
      "display_name": "Python 3"
    },
    "language_info": {
      "name": "python"
    }
  },
  "cells": [
    {
      "cell_type": "markdown",
      "metadata": {
        "id": "view-in-github",
        "colab_type": "text"
      },
      "source": [
        "<a href=\"https://colab.research.google.com/github/PranBhor/DataScience/blob/main/Statistics_Basic.ipynb\" target=\"_parent\"><img src=\"https://colab.research.google.com/assets/colab-badge.svg\" alt=\"Open In Colab\"/></a>"
      ]
    },
    {
      "cell_type": "markdown",
      "metadata": {
        "id": "K_3QlMrHgUr7"
      },
      "source": [
        "**Library = Statistics**"
      ]
    },
    {
      "cell_type": "code",
      "metadata": {
        "id": "kG09VRALxb7c"
      },
      "source": [
        "import statistics as st"
      ],
      "execution_count": null,
      "outputs": []
    },
    {
      "cell_type": "code",
      "metadata": {
        "id": "EfznL1hnxe_a"
      },
      "source": [
        "df=[2,2,4,5,6,6,6,6,5,4,8,7,9,5,6,7,8]"
      ],
      "execution_count": null,
      "outputs": []
    },
    {
      "cell_type": "code",
      "metadata": {
        "colab": {
          "base_uri": "https://localhost:8080/"
        },
        "id": "-_1W9btIx4j4",
        "outputId": "25083a06-faac-4679-d8e8-146c64defb2a"
      },
      "source": [
        "st.mean(df)"
      ],
      "execution_count": null,
      "outputs": [
        {
          "output_type": "execute_result",
          "data": {
            "text/plain": [
              "5.647058823529412"
            ]
          },
          "metadata": {},
          "execution_count": 3
        }
      ]
    },
    {
      "cell_type": "code",
      "metadata": {
        "colab": {
          "base_uri": "https://localhost:8080/"
        },
        "id": "P-78_zDTx_bf",
        "outputId": "42cc538d-9fb9-442f-94c0-fe34f2892755"
      },
      "source": [
        "st.median(df)"
      ],
      "execution_count": null,
      "outputs": [
        {
          "output_type": "execute_result",
          "data": {
            "text/plain": [
              "6"
            ]
          },
          "metadata": {},
          "execution_count": 4
        }
      ]
    },
    {
      "cell_type": "code",
      "metadata": {
        "colab": {
          "base_uri": "https://localhost:8080/"
        },
        "id": "jrnSESynyO47",
        "outputId": "fa69a6a8-fddb-4499-969d-eb692073058c"
      },
      "source": [
        "st.median_low([1,2,3,5])"
      ],
      "execution_count": null,
      "outputs": [
        {
          "output_type": "execute_result",
          "data": {
            "text/plain": [
              "2"
            ]
          },
          "metadata": {},
          "execution_count": 5
        }
      ]
    },
    {
      "cell_type": "code",
      "metadata": {
        "colab": {
          "base_uri": "https://localhost:8080/"
        },
        "id": "y0PN2Eax0tqn",
        "outputId": "f47013a1-15a9-44c5-cd24-8bbd2ac21fa6"
      },
      "source": [
        "st.median_high([1,2,3,5])"
      ],
      "execution_count": null,
      "outputs": [
        {
          "output_type": "execute_result",
          "data": {
            "text/plain": [
              "3"
            ]
          },
          "metadata": {},
          "execution_count": 6
        }
      ]
    },
    {
      "cell_type": "code",
      "metadata": {
        "colab": {
          "base_uri": "https://localhost:8080/"
        },
        "id": "jc-jBI7t07k3",
        "outputId": "bb0287c6-fa1c-4cde-c637-554dcd848478"
      },
      "source": [
        "st.pvariance(df) \n",
        "#population variance"
      ],
      "execution_count": null,
      "outputs": [
        {
          "output_type": "execute_result",
          "data": {
            "text/plain": [
              "3.5224913494809686"
            ]
          },
          "metadata": {},
          "execution_count": 8
        }
      ]
    },
    {
      "cell_type": "code",
      "metadata": {
        "colab": {
          "base_uri": "https://localhost:8080/"
        },
        "id": "w1NA3EohXNAh",
        "outputId": "8fe7f001-f49d-49e0-b177-1921d5ff4cff"
      },
      "source": [
        "st.stdev(df)"
      ],
      "execution_count": null,
      "outputs": [
        {
          "output_type": "execute_result",
          "data": {
            "text/plain": [
              "1.9345922202943775"
            ]
          },
          "metadata": {},
          "execution_count": 9
        }
      ]
    },
    {
      "cell_type": "code",
      "metadata": {
        "colab": {
          "base_uri": "https://localhost:8080/"
        },
        "id": "GdN4qtLfXpUf",
        "outputId": "11f6b885-fa2c-43c1-a6ab-7fa2c9531771"
      },
      "source": [
        "st.variance(df)\n",
        "#sample variance"
      ],
      "execution_count": null,
      "outputs": [
        {
          "output_type": "execute_result",
          "data": {
            "text/plain": [
              "3.7426470588235294"
            ]
          },
          "metadata": {},
          "execution_count": 11
        }
      ]
    }
  ]
}