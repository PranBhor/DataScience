{
 "cells": [
  {
   "cell_type": "code",
   "execution_count": 85,
   "id": "d36722c0",
   "metadata": {},
   "outputs": [],
   "source": [
    "import pandas as pd\n",
    "import os\n",
    "import sklearn\n",
    "import numpy as np"
   ]
  },
  {
   "cell_type": "code",
   "execution_count": 61,
   "id": "413bcbc9",
   "metadata": {},
   "outputs": [],
   "source": [
    "os.chdir(r'C:\\Users\\HP\\Documents')"
   ]
  },
  {
   "cell_type": "code",
   "execution_count": 91,
   "id": "378a3861",
   "metadata": {},
   "outputs": [
    {
     "name": "stdout",
     "output_type": "stream",
     "text": [
      "[[15.11561785 12.38971843]\n",
      " [ 4.74454563 18.90648791]\n",
      " [19.90304804  7.845412  ]\n",
      " [14.28002027  8.61219048]\n",
      " [14.02557541 18.59023845]\n",
      " [12.39274482 10.97579644]\n",
      " [15.61891192 18.79146525]\n",
      " [11.0511835  16.22195415]\n",
      " [10.37237018  3.91539326]\n",
      " [12.65836857 17.54218823]]\n"
     ]
    }
   ],
   "source": [
    "data = np.random.random((10, 2))\n",
    "data = data*20\n",
    "print(data)"
   ]
  },
  {
   "cell_type": "code",
   "execution_count": 92,
   "id": "f6a21435",
   "metadata": {},
   "outputs": [],
   "source": [
    "from sklearn import preprocessing "
   ]
  },
  {
   "cell_type": "markdown",
   "id": "579f5662",
   "metadata": {},
   "source": [
    "# Normalization of data"
   ]
  },
  {
   "cell_type": "code",
   "execution_count": 93,
   "id": "edfd14d4",
   "metadata": {},
   "outputs": [],
   "source": [
    "from sklearn.preprocessing import Normalizer\n"
   ]
  },
  {
   "cell_type": "code",
   "execution_count": 103,
   "id": "67acef72",
   "metadata": {},
   "outputs": [],
   "source": [
    "scaler=Normalizer().fit(data)\n",
    "normalizerdata=scaler.transform(data)"
   ]
  },
  {
   "cell_type": "code",
   "execution_count": 104,
   "id": "e4561716",
   "metadata": {},
   "outputs": [
    {
     "data": {
      "text/plain": [
       "array([[0.77339542, 0.63392391],\n",
       "       [0.24340094, 0.96992576],\n",
       "       [0.93033158, 0.36671944],\n",
       "       [0.85632194, 0.51644238],\n",
       "       [0.60227576, 0.79828811],\n",
       "       [0.74860721, 0.66301376],\n",
       "       [0.63920226, 0.76903866],\n",
       "       [0.56301544, 0.82644638],\n",
       "       [0.93556324, 0.3531592 ],\n",
       "       [0.58515664, 0.81092029]])"
      ]
     },
     "execution_count": 104,
     "metadata": {},
     "output_type": "execute_result"
    }
   ],
   "source": [
    "normalizerdata"
   ]
  },
  {
   "cell_type": "markdown",
   "id": "7dcd33a6",
   "metadata": {},
   "source": [
    "# Visualization of Normalize Data"
   ]
  },
  {
   "cell_type": "code",
   "execution_count": 105,
   "id": "d9a80866",
   "metadata": {},
   "outputs": [],
   "source": [
    "import seaborn as sns"
   ]
  },
  {
   "cell_type": "code",
   "execution_count": 106,
   "id": "d3b0bebd",
   "metadata": {},
   "outputs": [
    {
     "name": "stderr",
     "output_type": "stream",
     "text": [
      "C:\\ProgramData\\Anaconda3\\lib\\site-packages\\seaborn\\distributions.py:2557: FutureWarning: `distplot` is a deprecated function and will be removed in a future version. Please adapt your code to use either `displot` (a figure-level function with similar flexibility) or `histplot` (an axes-level function for histograms).\n",
      "  warnings.warn(msg, FutureWarning)\n"
     ]
    },
    {
     "data": {
      "text/plain": [
       "<AxesSubplot:ylabel='Density'>"
      ]
     },
     "execution_count": 106,
     "metadata": {},
     "output_type": "execute_result"
    },
    {
     "data": {
      "image/png": "[encoded data removed]",
      "text/plain": [
       "<Figure size 432x288 with 1 Axes>"
      ]
     },
     "metadata": {
      "needs_background": "light"
     },
     "output_type": "display_data"
    }
   ],
   "source": [
    "sns.distplot(normalizerdata)"
   ]
  },
  {
   "cell_type": "markdown",
   "id": "3e38d1da",
   "metadata": {},
   "source": [
    "# Standardization of Data"
   ]
  },
  {
   "cell_type": "code",
   "execution_count": 110,
   "id": "4eb2008f",
   "metadata": {},
   "outputs": [],
   "source": [
    "from sklearn.preprocessing import StandardScaler\n",
    "scaler=StandardScaler().fit(data)\n",
    "standarddata=scaler.transform(data)"
   ]
  },
  {
   "cell_type": "markdown",
   "id": "88874865",
   "metadata": {},
   "source": [
    "\n",
    "# Visualization of Standardize Data"
   ]
  },
  {
   "cell_type": "code",
   "execution_count": 111,
   "id": "1492cbc4",
   "metadata": {},
   "outputs": [
    {
     "name": "stderr",
     "output_type": "stream",
     "text": [
      "C:\\ProgramData\\Anaconda3\\lib\\site-packages\\seaborn\\distributions.py:2557: FutureWarning: `distplot` is a deprecated function and will be removed in a future version. Please adapt your code to use either `displot` (a figure-level function with similar flexibility) or `histplot` (an axes-level function for histograms).\n",
      "  warnings.warn(msg, FutureWarning)\n"
     ]
    },
    {
     "data": {
      "text/plain": [
       "<AxesSubplot:ylabel='Density'>"
      ]
     },
     "execution_count": 111,
     "metadata": {},
     "output_type": "execute_result"
    },
    {
     "data": {
      "image/png": "[encoded data removed]",
      "text/plain": [
       "<Figure size 432x288 with 1 Axes>"
      ]
     },
     "metadata": {
      "needs_background": "light"
     },
     "output_type": "display_data"
    }
   ],
   "source": [
    "sns.distplot(standard)"
   ]
  },
  {
   "cell_type": "code",
   "execution_count": null,
   "id": "db0ff171",
   "metadata": {},
   "outputs": [],
   "source": []
  }
 ],
 "metadata": {
  "kernelspec": {
   "display_name": "Python 3",
   "language": "python",
   "name": "python3"
  },
  "language_info": {
   "codemirror_mode": {
    "name": "ipython",
    "version": 3
   },
   "file_extension": ".py",
   "mimetype": "text/x-python",
   "name": "python",
   "nbconvert_exporter": "python",
   "pygments_lexer": "ipython3",
   "version": "3.8.8"
  }
 },
 "nbformat": 4,
 "nbformat_minor": 5
}
