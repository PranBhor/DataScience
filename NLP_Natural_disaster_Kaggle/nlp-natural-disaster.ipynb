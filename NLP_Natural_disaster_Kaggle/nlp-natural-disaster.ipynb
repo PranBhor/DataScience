{
 "cells": [
  {
   "cell_type": "code",
   "execution_count": 1,
   "id": "3185c272",
   "metadata": {
    "_cell_guid": "b1076dfc-b9ad-4769-8c92-a6c4dae69d19",
    "_uuid": "8f2839f25d086af736a60e9eeb907d3b93b6e0e5",
    "execution": {
     "iopub.execute_input": "2021-09-06T13:18:34.898515Z",
     "iopub.status.busy": "2021-09-06T13:18:34.896857Z",
     "iopub.status.idle": "2021-09-06T13:18:36.485396Z",
     "shell.execute_reply": "2021-09-06T13:18:36.485868Z",
     "shell.execute_reply.started": "2021-09-04T14:14:34.552184Z"
    },
    "papermill": {
     "duration": 1.627802,
     "end_time": "2021-09-06T13:18:36.486138",
     "exception": false,
     "start_time": "2021-09-06T13:18:34.858336",
     "status": "completed"
    },
    "tags": []
   },
   "outputs": [
    {
     "name": "stdout",
     "output_type": "stream",
     "text": [
      "/kaggle/input/nlp-getting-started/sample_submission.csv\n",
      "/kaggle/input/nlp-getting-started/train.csv\n",
      "/kaggle/input/nlp-getting-started/test.csv\n"
     ]
    }
   ],
   "source": [
    "# This Python 3 environment comes with many helpful analytics libraries installed\n",
    "# It is defined by the kaggle/python Docker image: https://github.com/kaggle/docker-python\n",
    "# For example, here's several helpful packages to load\n",
    "\n",
    "import numpy as np # linear algebra\n",
    "import pandas as pd # data processing, CSV file I/O (e.g. pd.read_csv)\n",
    "import seaborn as sns\n",
    "import string\n",
    "import re\n",
    "import string\n",
    "import re\n",
    "import nltk\n",
    "from sklearn import metrics\n",
    "\n",
    "# Input data files are available in the read-only \"../input/\" directory\n",
    "# For example, running this (by clicking run or pressing Shift+Enter) will list all files under the input directory\n",
    "\n",
    "import os\n",
    "for dirname, _, filenames in os.walk('/kaggle/input'):\n",
    "    for filename in filenames:\n",
    "        print(os.path.join(dirname, filename))\n",
    "\n",
    "# You can write up to 20GB to the current directory (/kaggle/working/) that gets preserved as output when you create a version using \"Save & Run All\" \n",
    "# You can also write temporary files to /kaggle/temp/, but they won't be saved outside of the current session"
   ]
  },
  {
   "cell_type": "code",
   "execution_count": 2,
   "id": "d8251782",
   "metadata": {
    "execution": {
     "iopub.execute_input": "2021-09-06T13:18:36.560956Z",
     "iopub.status.busy": "2021-09-06T13:18:36.560294Z",
     "iopub.status.idle": "2021-09-06T13:18:36.648473Z",
     "shell.execute_reply": "2021-09-06T13:18:36.647944Z",
     "shell.execute_reply.started": "2021-09-04T14:14:34.56502Z"
    },
    "papermill": {
     "duration": 0.125542,
     "end_time": "2021-09-06T13:18:36.648618",
     "exception": false,
     "start_time": "2021-09-06T13:18:36.523076",
     "status": "completed"
    },
    "tags": []
   },
   "outputs": [],
   "source": [
    "train_data=pd.read_csv(\"../input/nlp-getting-started/train.csv\")\n",
    "test_data=pd.read_csv(\"../input/nlp-getting-started/test.csv\")"
   ]
  },
  {
   "cell_type": "code",
   "execution_count": 3,
   "id": "262711de",
   "metadata": {
    "execution": {
     "iopub.execute_input": "2021-09-06T13:18:36.717170Z",
     "iopub.status.busy": "2021-09-06T13:18:36.716528Z",
     "iopub.status.idle": "2021-09-06T13:18:36.734235Z",
     "shell.execute_reply": "2021-09-06T13:18:36.733641Z",
     "shell.execute_reply.started": "2021-09-04T14:14:34.619211Z"
    },
    "papermill": {
     "duration": 0.05716,
     "end_time": "2021-09-06T13:18:36.734361",
     "exception": false,
     "start_time": "2021-09-06T13:18:36.677201",
     "status": "completed"
    },
    "tags": []
   },
   "outputs": [
    {
     "data": {
      "text/html": [
       "<div>\n",
       "<style scoped>\n",
       "    .dataframe tbody tr th:only-of-type {\n",
       "        vertical-align: middle;\n",
       "    }\n",
       "\n",
       "    .dataframe tbody tr th {\n",
       "        vertical-align: top;\n",
       "    }\n",
       "\n",
       "    .dataframe thead th {\n",
       "        text-align: right;\n",
       "    }\n",
       "</style>\n",
       "<table border=\"1\" class=\"dataframe\">\n",
       "  <thead>\n",
       "    <tr style=\"text-align: right;\">\n",
       "      <th></th>\n",
       "      <th>id</th>\n",
       "      <th>keyword</th>\n",
       "      <th>location</th>\n",
       "      <th>text</th>\n",
       "      <th>target</th>\n",
       "    </tr>\n",
       "  </thead>\n",
       "  <tbody>\n",
       "    <tr>\n",
       "      <th>0</th>\n",
       "      <td>1</td>\n",
       "      <td>NaN</td>\n",
       "      <td>NaN</td>\n",
       "      <td>Our Deeds are the Reason of this #earthquake M...</td>\n",
       "      <td>1</td>\n",
       "    </tr>\n",
       "    <tr>\n",
       "      <th>1</th>\n",
       "      <td>4</td>\n",
       "      <td>NaN</td>\n",
       "      <td>NaN</td>\n",
       "      <td>Forest fire near La Ronge Sask. Canada</td>\n",
       "      <td>1</td>\n",
       "    </tr>\n",
       "    <tr>\n",
       "      <th>2</th>\n",
       "      <td>5</td>\n",
       "      <td>NaN</td>\n",
       "      <td>NaN</td>\n",
       "      <td>All residents asked to 'shelter in place' are ...</td>\n",
       "      <td>1</td>\n",
       "    </tr>\n",
       "    <tr>\n",
       "      <th>3</th>\n",
       "      <td>6</td>\n",
       "      <td>NaN</td>\n",
       "      <td>NaN</td>\n",
       "      <td>13,000 people receive #wildfires evacuation or...</td>\n",
       "      <td>1</td>\n",
       "    </tr>\n",
       "    <tr>\n",
       "      <th>4</th>\n",
       "      <td>7</td>\n",
       "      <td>NaN</td>\n",
       "      <td>NaN</td>\n",
       "      <td>Just got sent this photo from Ruby #Alaska as ...</td>\n",
       "      <td>1</td>\n",
       "    </tr>\n",
       "    <tr>\n",
       "      <th>5</th>\n",
       "      <td>8</td>\n",
       "      <td>NaN</td>\n",
       "      <td>NaN</td>\n",
       "      <td>#RockyFire Update =&gt; California Hwy. 20 closed...</td>\n",
       "      <td>1</td>\n",
       "    </tr>\n",
       "    <tr>\n",
       "      <th>6</th>\n",
       "      <td>10</td>\n",
       "      <td>NaN</td>\n",
       "      <td>NaN</td>\n",
       "      <td>#flood #disaster Heavy rain causes flash flood...</td>\n",
       "      <td>1</td>\n",
       "    </tr>\n",
       "    <tr>\n",
       "      <th>7</th>\n",
       "      <td>13</td>\n",
       "      <td>NaN</td>\n",
       "      <td>NaN</td>\n",
       "      <td>I'm on top of the hill and I can see a fire in...</td>\n",
       "      <td>1</td>\n",
       "    </tr>\n",
       "    <tr>\n",
       "      <th>8</th>\n",
       "      <td>14</td>\n",
       "      <td>NaN</td>\n",
       "      <td>NaN</td>\n",
       "      <td>There's an emergency evacuation happening now ...</td>\n",
       "      <td>1</td>\n",
       "    </tr>\n",
       "    <tr>\n",
       "      <th>9</th>\n",
       "      <td>15</td>\n",
       "      <td>NaN</td>\n",
       "      <td>NaN</td>\n",
       "      <td>I'm afraid that the tornado is coming to our a...</td>\n",
       "      <td>1</td>\n",
       "    </tr>\n",
       "  </tbody>\n",
       "</table>\n",
       "</div>"
      ],
      "text/plain": [
       "   id keyword location                                               text  \\\n",
       "0   1     NaN      NaN  Our Deeds are the Reason of this #earthquake M...   \n",
       "1   4     NaN      NaN             Forest fire near La Ronge Sask. Canada   \n",
       "2   5     NaN      NaN  All residents asked to 'shelter in place' are ...   \n",
       "3   6     NaN      NaN  13,000 people receive #wildfires evacuation or...   \n",
       "4   7     NaN      NaN  Just got sent this photo from Ruby #Alaska as ...   \n",
       "5   8     NaN      NaN  #RockyFire Update => California Hwy. 20 closed...   \n",
       "6  10     NaN      NaN  #flood #disaster Heavy rain causes flash flood...   \n",
       "7  13     NaN      NaN  I'm on top of the hill and I can see a fire in...   \n",
       "8  14     NaN      NaN  There's an emergency evacuation happening now ...   \n",
       "9  15     NaN      NaN  I'm afraid that the tornado is coming to our a...   \n",
       "\n",
       "   target  \n",
       "0       1  \n",
       "1       1  \n",
       "2       1  \n",
       "3       1  \n",
       "4       1  \n",
       "5       1  \n",
       "6       1  \n",
       "7       1  \n",
       "8       1  \n",
       "9       1  "
      ]
     },
     "execution_count": 3,
     "metadata": {},
     "output_type": "execute_result"
    }
   ],
   "source": [
    "train_data.head(10)"
   ]
  },
  {
   "cell_type": "code",
   "execution_count": 4,
   "id": "89ec5e9f",
   "metadata": {
    "execution": {
     "iopub.execute_input": "2021-09-06T13:18:36.801494Z",
     "iopub.status.busy": "2021-09-06T13:18:36.800409Z",
     "iopub.status.idle": "2021-09-06T13:18:36.804306Z",
     "shell.execute_reply": "2021-09-06T13:18:36.804774Z",
     "shell.execute_reply.started": "2021-09-04T14:14:34.636881Z"
    },
    "papermill": {
     "duration": 0.042289,
     "end_time": "2021-09-06T13:18:36.804963",
     "exception": false,
     "start_time": "2021-09-06T13:18:36.762674",
     "status": "completed"
    },
    "tags": []
   },
   "outputs": [
    {
     "data": {
      "text/html": [
       "<div>\n",
       "<style scoped>\n",
       "    .dataframe tbody tr th:only-of-type {\n",
       "        vertical-align: middle;\n",
       "    }\n",
       "\n",
       "    .dataframe tbody tr th {\n",
       "        vertical-align: top;\n",
       "    }\n",
       "\n",
       "    .dataframe thead th {\n",
       "        text-align: right;\n",
       "    }\n",
       "</style>\n",
       "<table border=\"1\" class=\"dataframe\">\n",
       "  <thead>\n",
       "    <tr style=\"text-align: right;\">\n",
       "      <th></th>\n",
       "      <th>id</th>\n",
       "      <th>keyword</th>\n",
       "      <th>location</th>\n",
       "      <th>text</th>\n",
       "    </tr>\n",
       "  </thead>\n",
       "  <tbody>\n",
       "    <tr>\n",
       "      <th>0</th>\n",
       "      <td>0</td>\n",
       "      <td>NaN</td>\n",
       "      <td>NaN</td>\n",
       "      <td>Just happened a terrible car crash</td>\n",
       "    </tr>\n",
       "    <tr>\n",
       "      <th>1</th>\n",
       "      <td>2</td>\n",
       "      <td>NaN</td>\n",
       "      <td>NaN</td>\n",
       "      <td>Heard about #earthquake is different cities, s...</td>\n",
       "    </tr>\n",
       "    <tr>\n",
       "      <th>2</th>\n",
       "      <td>3</td>\n",
       "      <td>NaN</td>\n",
       "      <td>NaN</td>\n",
       "      <td>there is a forest fire at spot pond, geese are...</td>\n",
       "    </tr>\n",
       "    <tr>\n",
       "      <th>3</th>\n",
       "      <td>9</td>\n",
       "      <td>NaN</td>\n",
       "      <td>NaN</td>\n",
       "      <td>Apocalypse lighting. #Spokane #wildfires</td>\n",
       "    </tr>\n",
       "    <tr>\n",
       "      <th>4</th>\n",
       "      <td>11</td>\n",
       "      <td>NaN</td>\n",
       "      <td>NaN</td>\n",
       "      <td>Typhoon Soudelor kills 28 in China and Taiwan</td>\n",
       "    </tr>\n",
       "    <tr>\n",
       "      <th>5</th>\n",
       "      <td>12</td>\n",
       "      <td>NaN</td>\n",
       "      <td>NaN</td>\n",
       "      <td>We're shaking...It's an earthquake</td>\n",
       "    </tr>\n",
       "    <tr>\n",
       "      <th>6</th>\n",
       "      <td>21</td>\n",
       "      <td>NaN</td>\n",
       "      <td>NaN</td>\n",
       "      <td>They'd probably still show more life than Arse...</td>\n",
       "    </tr>\n",
       "    <tr>\n",
       "      <th>7</th>\n",
       "      <td>22</td>\n",
       "      <td>NaN</td>\n",
       "      <td>NaN</td>\n",
       "      <td>Hey! How are you?</td>\n",
       "    </tr>\n",
       "    <tr>\n",
       "      <th>8</th>\n",
       "      <td>27</td>\n",
       "      <td>NaN</td>\n",
       "      <td>NaN</td>\n",
       "      <td>What a nice hat?</td>\n",
       "    </tr>\n",
       "    <tr>\n",
       "      <th>9</th>\n",
       "      <td>29</td>\n",
       "      <td>NaN</td>\n",
       "      <td>NaN</td>\n",
       "      <td>Fuck off!</td>\n",
       "    </tr>\n",
       "  </tbody>\n",
       "</table>\n",
       "</div>"
      ],
      "text/plain": [
       "   id keyword location                                               text\n",
       "0   0     NaN      NaN                 Just happened a terrible car crash\n",
       "1   2     NaN      NaN  Heard about #earthquake is different cities, s...\n",
       "2   3     NaN      NaN  there is a forest fire at spot pond, geese are...\n",
       "3   9     NaN      NaN           Apocalypse lighting. #Spokane #wildfires\n",
       "4  11     NaN      NaN      Typhoon Soudelor kills 28 in China and Taiwan\n",
       "5  12     NaN      NaN                 We're shaking...It's an earthquake\n",
       "6  21     NaN      NaN  They'd probably still show more life than Arse...\n",
       "7  22     NaN      NaN                                  Hey! How are you?\n",
       "8  27     NaN      NaN                                   What a nice hat?\n",
       "9  29     NaN      NaN                                          Fuck off!"
      ]
     },
     "execution_count": 4,
     "metadata": {},
     "output_type": "execute_result"
    }
   ],
   "source": [
    "test_data.head(10)"
   ]
  },
  {
   "cell_type": "code",
   "execution_count": 5,
   "id": "2bb9dd4e",
   "metadata": {
    "execution": {
     "iopub.execute_input": "2021-09-06T13:18:36.865470Z",
     "iopub.status.busy": "2021-09-06T13:18:36.864897Z",
     "iopub.status.idle": "2021-09-06T13:18:36.870249Z",
     "shell.execute_reply": "2021-09-06T13:18:36.869656Z",
     "shell.execute_reply.started": "2021-09-04T14:14:34.659263Z"
    },
    "papermill": {
     "duration": 0.036645,
     "end_time": "2021-09-06T13:18:36.870375",
     "exception": false,
     "start_time": "2021-09-06T13:18:36.833730",
     "status": "completed"
    },
    "tags": []
   },
   "outputs": [
    {
     "data": {
      "text/plain": [
       "(7613, 5)"
      ]
     },
     "execution_count": 5,
     "metadata": {},
     "output_type": "execute_result"
    }
   ],
   "source": [
    "train_data.shape"
   ]
  },
  {
   "cell_type": "code",
   "execution_count": 6,
   "id": "79b5844a",
   "metadata": {
    "execution": {
     "iopub.execute_input": "2021-09-06T13:18:36.935238Z",
     "iopub.status.busy": "2021-09-06T13:18:36.934345Z",
     "iopub.status.idle": "2021-09-06T13:18:36.938503Z",
     "shell.execute_reply": "2021-09-06T13:18:36.938045Z",
     "shell.execute_reply.started": "2021-09-04T14:14:34.675356Z"
    },
    "papermill": {
     "duration": 0.038948,
     "end_time": "2021-09-06T13:18:36.938631",
     "exception": false,
     "start_time": "2021-09-06T13:18:36.899683",
     "status": "completed"
    },
    "tags": []
   },
   "outputs": [
    {
     "data": {
      "text/plain": [
       "(3263, 4)"
      ]
     },
     "execution_count": 6,
     "metadata": {},
     "output_type": "execute_result"
    }
   ],
   "source": [
    "test_data.shape"
   ]
  },
  {
   "cell_type": "code",
   "execution_count": 7,
   "id": "06a7d7c1",
   "metadata": {
    "execution": {
     "iopub.execute_input": "2021-09-06T13:18:37.016600Z",
     "iopub.status.busy": "2021-09-06T13:18:37.015848Z",
     "iopub.status.idle": "2021-09-06T13:18:37.040877Z",
     "shell.execute_reply": "2021-09-06T13:18:37.040356Z",
     "shell.execute_reply.started": "2021-09-04T14:14:34.689486Z"
    },
    "papermill": {
     "duration": 0.072413,
     "end_time": "2021-09-06T13:18:37.041032",
     "exception": false,
     "start_time": "2021-09-06T13:18:36.968619",
     "status": "completed"
    },
    "tags": []
   },
   "outputs": [
    {
     "name": "stdout",
     "output_type": "stream",
     "text": [
      "<class 'pandas.core.frame.DataFrame'>\n",
      "RangeIndex: 7613 entries, 0 to 7612\n",
      "Data columns (total 5 columns):\n",
      " #   Column    Non-Null Count  Dtype \n",
      "---  ------    --------------  ----- \n",
      " 0   id        7613 non-null   int64 \n",
      " 1   keyword   7552 non-null   object\n",
      " 2   location  5080 non-null   object\n",
      " 3   text      7613 non-null   object\n",
      " 4   target    7613 non-null   int64 \n",
      "dtypes: int64(2), object(3)\n",
      "memory usage: 297.5+ KB\n"
     ]
    }
   ],
   "source": [
    "train_data.info()"
   ]
  },
  {
   "cell_type": "code",
   "execution_count": 8,
   "id": "8e9838a8",
   "metadata": {
    "execution": {
     "iopub.execute_input": "2021-09-06T13:18:37.119958Z",
     "iopub.status.busy": "2021-09-06T13:18:37.119335Z",
     "iopub.status.idle": "2021-09-06T13:18:37.123438Z",
     "shell.execute_reply": "2021-09-06T13:18:37.122796Z",
     "shell.execute_reply.started": "2021-09-04T14:14:34.718745Z"
    },
    "papermill": {
     "duration": 0.047729,
     "end_time": "2021-09-06T13:18:37.123631",
     "exception": false,
     "start_time": "2021-09-06T13:18:37.075902",
     "status": "completed"
    },
    "tags": []
   },
   "outputs": [
    {
     "name": "stdout",
     "output_type": "stream",
     "text": [
      "<class 'pandas.core.frame.DataFrame'>\n",
      "RangeIndex: 3263 entries, 0 to 3262\n",
      "Data columns (total 4 columns):\n",
      " #   Column    Non-Null Count  Dtype \n",
      "---  ------    --------------  ----- \n",
      " 0   id        3263 non-null   int64 \n",
      " 1   keyword   3237 non-null   object\n",
      " 2   location  2158 non-null   object\n",
      " 3   text      3263 non-null   object\n",
      "dtypes: int64(1), object(3)\n",
      "memory usage: 102.1+ KB\n"
     ]
    }
   ],
   "source": [
    "test_data.info()"
   ]
  },
  {
   "cell_type": "code",
   "execution_count": 9,
   "id": "2a590203",
   "metadata": {
    "execution": {
     "iopub.execute_input": "2021-09-06T13:18:37.192576Z",
     "iopub.status.busy": "2021-09-06T13:18:37.190194Z",
     "iopub.status.idle": "2021-09-06T13:18:37.197371Z",
     "shell.execute_reply": "2021-09-06T13:18:37.196872Z",
     "shell.execute_reply.started": "2021-09-04T14:14:34.73844Z"
    },
    "papermill": {
     "duration": 0.043396,
     "end_time": "2021-09-06T13:18:37.197511",
     "exception": false,
     "start_time": "2021-09-06T13:18:37.154115",
     "status": "completed"
    },
    "tags": []
   },
   "outputs": [
    {
     "data": {
      "text/plain": [
       "id             0\n",
       "keyword       61\n",
       "location    2533\n",
       "text           0\n",
       "target         0\n",
       "dtype: int64"
      ]
     },
     "execution_count": 9,
     "metadata": {},
     "output_type": "execute_result"
    }
   ],
   "source": [
    "train_data.isnull().sum()"
   ]
  },
  {
   "cell_type": "code",
   "execution_count": 10,
   "id": "1e031ebc",
   "metadata": {
    "execution": {
     "iopub.execute_input": "2021-09-06T13:18:37.268133Z",
     "iopub.status.busy": "2021-09-06T13:18:37.267436Z",
     "iopub.status.idle": "2021-09-06T13:18:37.271031Z",
     "shell.execute_reply": "2021-09-06T13:18:37.271427Z",
     "shell.execute_reply.started": "2021-09-04T14:14:34.75306Z"
    },
    "papermill": {
     "duration": 0.041676,
     "end_time": "2021-09-06T13:18:37.271637",
     "exception": false,
     "start_time": "2021-09-06T13:18:37.229961",
     "status": "completed"
    },
    "tags": []
   },
   "outputs": [
    {
     "data": {
      "text/plain": [
       "id             0\n",
       "keyword       26\n",
       "location    1105\n",
       "text           0\n",
       "dtype: int64"
      ]
     },
     "execution_count": 10,
     "metadata": {},
     "output_type": "execute_result"
    }
   ],
   "source": [
    "test_data.isnull().sum()"
   ]
  },
  {
   "cell_type": "code",
   "execution_count": 11,
   "id": "173ac8bd",
   "metadata": {
    "execution": {
     "iopub.execute_input": "2021-09-06T13:18:37.341036Z",
     "iopub.status.busy": "2021-09-06T13:18:37.340395Z",
     "iopub.status.idle": "2021-09-06T13:18:37.343242Z",
     "shell.execute_reply": "2021-09-06T13:18:37.343909Z",
     "shell.execute_reply.started": "2021-09-04T14:14:34.770475Z"
    },
    "papermill": {
     "duration": 0.04122,
     "end_time": "2021-09-06T13:18:37.344094",
     "exception": false,
     "start_time": "2021-09-06T13:18:37.302874",
     "status": "completed"
    },
    "tags": []
   },
   "outputs": [],
   "source": [
    "train_data=pd.DataFrame(train_data[['text','target']])"
   ]
  },
  {
   "cell_type": "code",
   "execution_count": 12,
   "id": "f284c39e",
   "metadata": {
    "execution": {
     "iopub.execute_input": "2021-09-06T13:18:37.410887Z",
     "iopub.status.busy": "2021-09-06T13:18:37.410298Z",
     "iopub.status.idle": "2021-09-06T13:18:37.413315Z",
     "shell.execute_reply": "2021-09-06T13:18:37.412835Z",
     "shell.execute_reply.started": "2021-09-04T14:14:34.780695Z"
    },
    "papermill": {
     "duration": 0.038409,
     "end_time": "2021-09-06T13:18:37.413443",
     "exception": false,
     "start_time": "2021-09-06T13:18:37.375034",
     "status": "completed"
    },
    "tags": []
   },
   "outputs": [],
   "source": [
    "test_data=pd.DataFrame(test_data[['text']])"
   ]
  },
  {
   "cell_type": "code",
   "execution_count": 13,
   "id": "408718eb",
   "metadata": {
    "execution": {
     "iopub.execute_input": "2021-09-06T13:18:37.479158Z",
     "iopub.status.busy": "2021-09-06T13:18:37.478563Z",
     "iopub.status.idle": "2021-09-06T13:18:37.498430Z",
     "shell.execute_reply": "2021-09-06T13:18:37.498944Z",
     "shell.execute_reply.started": "2021-09-04T14:14:34.797006Z"
    },
    "papermill": {
     "duration": 0.055625,
     "end_time": "2021-09-06T13:18:37.499114",
     "exception": false,
     "start_time": "2021-09-06T13:18:37.443489",
     "status": "completed"
    },
    "tags": []
   },
   "outputs": [
    {
     "name": "stdout",
     "output_type": "stream",
     "text": [
      "Count of Disaster Tweets:-\n",
      "4342\n",
      "Count of no Disaster Tweets:-\n",
      "3271\n"
     ]
    }
   ],
   "source": [
    "print(\"Count of Disaster Tweets:-\")\n",
    "print(len(train_data[train_data['target']==0]))\n",
    "print(\"Count of no Disaster Tweets:-\")\n",
    "print(len(train_data[train_data['target']==1]))"
   ]
  },
  {
   "cell_type": "code",
   "execution_count": 14,
   "id": "121c28d7",
   "metadata": {
    "execution": {
     "iopub.execute_input": "2021-09-06T13:18:37.564633Z",
     "iopub.status.busy": "2021-09-06T13:18:37.564056Z",
     "iopub.status.idle": "2021-09-06T13:18:37.570760Z",
     "shell.execute_reply": "2021-09-06T13:18:37.570285Z",
     "shell.execute_reply.started": "2021-09-04T14:14:34.813546Z"
    },
    "papermill": {
     "duration": 0.041165,
     "end_time": "2021-09-06T13:18:37.570917",
     "exception": false,
     "start_time": "2021-09-06T13:18:37.529752",
     "status": "completed"
    },
    "tags": []
   },
   "outputs": [
    {
     "name": "stdout",
     "output_type": "stream",
     "text": [
      "   target\n",
      "0    4342\n",
      "1    3271\n"
     ]
    }
   ],
   "source": [
    "target_cnt=train_data['target'].value_counts().to_frame()\n",
    "print(target_cnt)"
   ]
  },
  {
   "cell_type": "code",
   "execution_count": 15,
   "id": "f1b8f6a5",
   "metadata": {
    "execution": {
     "iopub.execute_input": "2021-09-06T13:18:37.642410Z",
     "iopub.status.busy": "2021-09-06T13:18:37.641724Z",
     "iopub.status.idle": "2021-09-06T13:18:37.883034Z",
     "shell.execute_reply": "2021-09-06T13:18:37.882060Z",
     "shell.execute_reply.started": "2021-09-04T14:14:34.824177Z"
    },
    "papermill": {
     "duration": 0.28104,
     "end_time": "2021-09-06T13:18:37.883178",
     "exception": false,
     "start_time": "2021-09-06T13:18:37.602138",
     "status": "completed"
    },
    "tags": []
   },
   "outputs": [
    {
     "data": {
      "text/plain": [
       "<AxesSubplot:ylabel='target'>"
      ]
     },
     "execution_count": 15,
     "metadata": {},
     "output_type": "execute_result"
    },
    {
     "data": {
      "image/png": "[encoded data removed]",
      "text/plain": [
       "<Figure size 432x288 with 1 Axes>"
      ]
     },
     "metadata": {
      "needs_background": "light"
     },
     "output_type": "display_data"
    }
   ],
   "source": [
    "sns.barplot(data=target_cnt,x=target_cnt.index,y=\"target\",)"
   ]
  },
  {
   "cell_type": "code",
   "execution_count": 16,
   "id": "c70a6a2c",
   "metadata": {
    "execution": {
     "iopub.execute_input": "2021-09-06T13:18:37.958969Z",
     "iopub.status.busy": "2021-09-06T13:18:37.953756Z",
     "iopub.status.idle": "2021-09-06T13:18:38.142333Z",
     "shell.execute_reply": "2021-09-06T13:18:38.142794Z",
     "shell.execute_reply.started": "2021-09-04T14:14:34.968974Z"
    },
    "papermill": {
     "duration": 0.226749,
     "end_time": "2021-09-06T13:18:38.142977",
     "exception": false,
     "start_time": "2021-09-06T13:18:37.916228",
     "status": "completed"
    },
    "tags": []
   },
   "outputs": [
    {
     "name": "stdout",
     "output_type": "stream",
     "text": [
      "Train Data\n",
      "                                                text  target\n",
      "0  Our Deeds are the Reason of this earthquake Ma...       1\n",
      "1              Forest fire near La Ronge Sask Canada       1\n",
      "2  All residents asked to shelter in place are be...       1\n",
      "3   people receive wildfires evacuation orders in...       1\n",
      "4  Just got sent this photo from Ruby Alaska as s...       1\n",
      "5  RockyFire Update  California Hwy  closed in bo...       1\n",
      "6  flood disaster Heavy rain causes flash floodin...       1\n",
      "7  Im on top of the hill and I can see a fire in ...       1\n",
      "8  Theres an emergency evacuation happening now i...       1\n",
      "9   Im afraid that the tornado is coming to our area       1\n",
      "\n",
      "\n",
      "\n",
      "\n",
      "\n",
      "Test Data\n",
      "                                                text\n",
      "0                 Just happened a terrible car crash\n",
      "1  Heard about earthquake is different cities sta...\n",
      "2  there is a forest fire at spot pond geese are ...\n",
      "3              Apocalypse lighting Spokane wildfires\n",
      "4        Typhoon Soudelor kills  in China and Taiwan\n",
      "5                      Were shakingIts an earthquake\n",
      "6  Theyd probably still show more life than Arsen...\n",
      "7                                    Hey How are you\n",
      "8                                    What a nice hat\n",
      "9                                           Fuck off\n"
     ]
    }
   ],
   "source": [
    "def remove_punch(text):\n",
    "    text  = \"\".join([char for char in text if char not in string.punctuation])\n",
    "    text = re.sub('[0-9]+', '', text)\n",
    "    return text\n",
    "train_data['text'] = train_data['text'].apply(lambda x: remove_punch(x))\n",
    "test_data['text']=test_data['text'].apply(lambda x: remove_punch(x))\n",
    "\n",
    "print(\"Train Data\")\n",
    "print(train_data.head(10))\n",
    "print(\"\\n\\n\\n\\n\")\n",
    "print(\"Test Data\")\n",
    "print(test_data.head(10))\n"
   ]
  },
  {
   "cell_type": "code",
   "execution_count": 17,
   "id": "cad50f03",
   "metadata": {
    "execution": {
     "iopub.execute_input": "2021-09-06T13:18:38.244565Z",
     "iopub.status.busy": "2021-09-06T13:18:38.234159Z",
     "iopub.status.idle": "2021-09-06T13:18:38.309164Z",
     "shell.execute_reply": "2021-09-06T13:18:38.309616Z",
     "shell.execute_reply.started": "2021-09-04T14:14:35.212892Z"
    },
    "papermill": {
     "duration": 0.134052,
     "end_time": "2021-09-06T13:18:38.309778",
     "exception": false,
     "start_time": "2021-09-06T13:18:38.175726",
     "status": "completed"
    },
    "tags": []
   },
   "outputs": [
    {
     "name": "stdout",
     "output_type": "stream",
     "text": [
      "Train Data\n",
      "                                                text  target\n",
      "0  [our, deeds, are, the, reason, of, this, earth...       1\n",
      "1      [forest, fire, near, la, ronge, sask, canada]       1\n",
      "2  [all, residents, asked, to, shelter, in, place...       1\n",
      "3  [, people, receive, wildfires, evacuation, ord...       1\n",
      "4  [just, got, sent, this, photo, from, ruby, ala...       1\n",
      "5  [rockyfire, update, california, hwy, closed, i...       1\n",
      "6  [flood, disaster, heavy, rain, causes, flash, ...       1\n",
      "7  [im, on, top, of, the, hill, and, i, can, see,...       1\n",
      "8  [theres, an, emergency, evacuation, happening,...       1\n",
      "9  [im, afraid, that, the, tornado, is, coming, t...       1\n",
      "\n",
      "\n",
      "\n",
      "\n",
      "\n",
      "Test Data\n",
      "                                                text\n",
      "0          [just, happened, a, terrible, car, crash]\n",
      "1  [heard, about, earthquake, is, different, citi...\n",
      "2  [there, is, a, forest, fire, at, spot, pond, g...\n",
      "3         [apocalypse, lighting, spokane, wildfires]\n",
      "4  [typhoon, soudelor, kills, in, china, and, tai...\n",
      "5                 [were, shakingits, an, earthquake]\n",
      "6  [theyd, probably, still, show, more, life, tha...\n",
      "7                               [hey, how, are, you]\n",
      "8                               [what, a, nice, hat]\n",
      "9                                        [fuck, off]\n"
     ]
    }
   ],
   "source": [
    "def tokenization(text):\n",
    "    text = re.split('\\W+', text)\n",
    "    return text\n",
    "\n",
    "train_data['text'] = train_data['text'].apply(lambda x: tokenization(x.lower()))\n",
    "test_data['text']=test_data['text'].apply(lambda x: tokenization(x.lower()))\n",
    "\n",
    "print(\"Train Data\")\n",
    "print(train_data.head(10))\n",
    "print(\"\\n\\n\\n\\n\")\n",
    "print(\"Test Data\")\n",
    "print(test_data.head(10))\n"
   ]
  },
  {
   "cell_type": "code",
   "execution_count": 18,
   "id": "a640e392",
   "metadata": {
    "execution": {
     "iopub.execute_input": "2021-09-06T13:18:38.378403Z",
     "iopub.status.busy": "2021-09-06T13:18:38.377838Z",
     "iopub.status.idle": "2021-09-06T13:18:38.386143Z",
     "shell.execute_reply": "2021-09-06T13:18:38.385678Z",
     "shell.execute_reply.started": "2021-09-04T14:14:35.355031Z"
    },
    "papermill": {
     "duration": 0.0442,
     "end_time": "2021-09-06T13:18:38.386283",
     "exception": false,
     "start_time": "2021-09-06T13:18:38.342083",
     "status": "completed"
    },
    "tags": []
   },
   "outputs": [],
   "source": [
    "stopword = nltk.corpus.stopwords.words('english')"
   ]
  },
  {
   "cell_type": "code",
   "execution_count": 19,
   "id": "b6883aaf",
   "metadata": {
    "execution": {
     "iopub.execute_input": "2021-09-06T13:18:38.476055Z",
     "iopub.status.busy": "2021-09-06T13:18:38.470880Z",
     "iopub.status.idle": "2021-09-06T13:18:38.789531Z",
     "shell.execute_reply": "2021-09-06T13:18:38.788933Z",
     "shell.execute_reply.started": "2021-09-04T14:14:35.362773Z"
    },
    "papermill": {
     "duration": 0.371516,
     "end_time": "2021-09-06T13:18:38.789662",
     "exception": false,
     "start_time": "2021-09-06T13:18:38.418146",
     "status": "completed"
    },
    "tags": []
   },
   "outputs": [
    {
     "name": "stdout",
     "output_type": "stream",
     "text": [
      "Train Data\n",
      "                                                text  target\n",
      "0  [deeds, reason, earthquake, may, allah, forgiv...       1\n",
      "1      [forest, fire, near, la, ronge, sask, canada]       1\n",
      "2  [residents, asked, shelter, place, notified, o...       1\n",
      "3  [, people, receive, wildfires, evacuation, ord...       1\n",
      "4  [got, sent, photo, ruby, alaska, smoke, wildfi...       1\n",
      "5  [rockyfire, update, california, hwy, closed, d...       1\n",
      "6  [flood, disaster, heavy, rain, causes, flash, ...       1\n",
      "7                  [im, top, hill, see, fire, woods]       1\n",
      "8  [theres, emergency, evacuation, happening, bui...       1\n",
      "9                [im, afraid, tornado, coming, area]       1\n",
      "\n",
      "\n",
      "\n",
      "\n",
      "\n",
      "Test Data\n",
      "                                                text\n",
      "0                   [happened, terrible, car, crash]\n",
      "1  [heard, earthquake, different, cities, stay, s...\n",
      "2  [forest, fire, spot, pond, geese, fleeing, acr...\n",
      "3         [apocalypse, lighting, spokane, wildfires]\n",
      "4          [typhoon, soudelor, kills, china, taiwan]\n",
      "5                           [shakingits, earthquake]\n",
      "6  [theyd, probably, still, show, life, arsenal, ...\n",
      "7                                              [hey]\n",
      "8                                        [nice, hat]\n",
      "9                                             [fuck]\n"
     ]
    }
   ],
   "source": [
    "def remove_stopwords(text):\n",
    "    text = [word for word in text if word not in stopword]\n",
    "    return text\n",
    "    \n",
    "train_data['text'] = train_data['text'].apply(lambda x: remove_stopwords(x))\n",
    "test_data['text']=test_data['text'].apply(lambda x: remove_stopwords(x))\n",
    "\n",
    "print(\"Train Data\")\n",
    "print(train_data.head(10))\n",
    "print(\"\\n\\n\\n\\n\")\n",
    "print(\"Test Data\")\n",
    "print(test_data.head(10))"
   ]
  },
  {
   "cell_type": "code",
   "execution_count": 20,
   "id": "ee064470",
   "metadata": {
    "execution": {
     "iopub.execute_input": "2021-09-06T13:18:38.858635Z",
     "iopub.status.busy": "2021-09-06T13:18:38.858072Z",
     "iopub.status.idle": "2021-09-06T13:18:40.855129Z",
     "shell.execute_reply": "2021-09-06T13:18:40.855545Z",
     "shell.execute_reply.started": "2021-09-04T14:14:36.020974Z"
    },
    "papermill": {
     "duration": 2.033058,
     "end_time": "2021-09-06T13:18:40.855708",
     "exception": false,
     "start_time": "2021-09-06T13:18:38.822650",
     "status": "completed"
    },
    "tags": []
   },
   "outputs": [
    {
     "name": "stdout",
     "output_type": "stream",
     "text": [
      "Train Data\n",
      "                                                text  target\n",
      "0  [deed, reason, earthquak, may, allah, forgiv, us]       1\n",
      "1       [forest, fire, near, la, rong, sask, canada]       1\n",
      "2  [resid, ask, shelter, place, notifi, offic, ev...       1\n",
      "3  [, peopl, receiv, wildfir, evacu, order, calif...       1\n",
      "4  [got, sent, photo, rubi, alaska, smoke, wildfi...       1\n",
      "5  [rockyfir, updat, california, hwi, close, dire...       1\n",
      "6  [flood, disast, heavi, rain, caus, flash, floo...       1\n",
      "7                   [im, top, hill, see, fire, wood]       1\n",
      "8  [there, emerg, evacu, happen, build, across, s...       1\n",
      "9                  [im, afraid, tornado, come, area]       1\n",
      "\n",
      "\n",
      "\n",
      "\n",
      "\n",
      "Test Data\n",
      "                                                text\n",
      "0                      [happen, terribl, car, crash]\n",
      "1  [heard, earthquak, differ, citi, stay, safe, e...\n",
      "2  [forest, fire, spot, pond, gees, flee, across,...\n",
      "3                [apocalyps, light, spokan, wildfir]\n",
      "4           [typhoon, soudelor, kill, china, taiwan]\n",
      "5                             [shakingit, earthquak]\n",
      "6  [theyd, probabl, still, show, life, arsen, yes...\n",
      "7                                              [hey]\n",
      "8                                        [nice, hat]\n",
      "9                                             [fuck]\n"
     ]
    }
   ],
   "source": [
    "ps = nltk.PorterStemmer()\n",
    "\n",
    "def stemming(text):\n",
    "    text = [ps.stem(word) for word in text]\n",
    "    return text\n",
    "\n",
    "train_data['text'] = train_data['text'].apply(lambda x: stemming(x))\n",
    "test_data['text']=test_data['text'].apply(lambda x: stemming(x))\n",
    "\n",
    "print(\"Train Data\")\n",
    "print(train_data.head(10))\n",
    "print(\"\\n\\n\\n\\n\")\n",
    "print(\"Test Data\")\n",
    "print(test_data.head(10))"
   ]
  },
  {
   "cell_type": "code",
   "execution_count": 21,
   "id": "f130ff47",
   "metadata": {
    "execution": {
     "iopub.execute_input": "2021-09-06T13:18:40.926969Z",
     "iopub.status.busy": "2021-09-06T13:18:40.926303Z",
     "iopub.status.idle": "2021-09-06T13:18:42.976744Z",
     "shell.execute_reply": "2021-09-06T13:18:42.977228Z",
     "shell.execute_reply.started": "2021-09-04T14:14:39.249173Z"
    },
    "papermill": {
     "duration": 2.089262,
     "end_time": "2021-09-06T13:18:42.977397",
     "exception": false,
     "start_time": "2021-09-06T13:18:40.888135",
     "status": "completed"
    },
    "tags": []
   },
   "outputs": [
    {
     "name": "stdout",
     "output_type": "stream",
     "text": [
      "Train Data\n",
      "                                                text  target\n",
      "0   [deed, reason, earthquak, may, allah, forgiv, u]       1\n",
      "1       [forest, fire, near, la, rong, sask, canada]       1\n",
      "2  [resid, ask, shelter, place, notifi, offic, ev...       1\n",
      "3  [, peopl, receiv, wildfir, evacu, order, calif...       1\n",
      "4  [got, sent, photo, rubi, alaska, smoke, wildfi...       1\n",
      "5  [rockyfir, updat, california, hwi, close, dire...       1\n",
      "6  [flood, disast, heavi, rain, caus, flash, floo...       1\n",
      "7                   [im, top, hill, see, fire, wood]       1\n",
      "8  [there, emerg, evacu, happen, build, across, s...       1\n",
      "9                  [im, afraid, tornado, come, area]       1\n",
      "\n",
      "\n",
      "\n",
      "\n",
      "\n",
      "Test Data\n",
      "                                                text\n",
      "0                      [happen, terribl, car, crash]\n",
      "1  [heard, earthquak, differ, citi, stay, safe, e...\n",
      "2  [forest, fire, spot, pond, gee, flee, across, ...\n",
      "3                [apocalyps, light, spokan, wildfir]\n",
      "4           [typhoon, soudelor, kill, china, taiwan]\n",
      "5                             [shakingit, earthquak]\n",
      "6  [theyd, probabl, still, show, life, arsen, yes...\n",
      "7                                              [hey]\n",
      "8                                        [nice, hat]\n",
      "9                                             [fuck]\n"
     ]
    }
   ],
   "source": [
    "wn = nltk.WordNetLemmatizer()\n",
    "\n",
    "def lemmatizer(text):\n",
    "    text = [wn.lemmatize(word) for word in text]\n",
    "    return text\n",
    "\n",
    "train_data['text'] = train_data['text'].apply(lambda x: lemmatizer(x))\n",
    "test_data['text']=test_data['text'].apply(lambda x: lemmatizer(x))\n",
    "\n",
    "print(\"Train Data\")\n",
    "print(train_data.head(10))\n",
    "print(\"\\n\\n\\n\\n\")\n",
    "print(\"Test Data\")\n",
    "print(test_data.head(10))"
   ]
  },
  {
   "cell_type": "code",
   "execution_count": 22,
   "id": "f6a51258",
   "metadata": {
    "execution": {
     "iopub.execute_input": "2021-09-06T13:18:43.117143Z",
     "iopub.status.busy": "2021-09-06T13:18:43.080419Z",
     "iopub.status.idle": "2021-09-06T13:18:44.891963Z",
     "shell.execute_reply": "2021-09-06T13:18:44.890836Z",
     "shell.execute_reply.started": "2021-09-04T14:14:39.878783Z"
    },
    "papermill": {
     "duration": 1.881281,
     "end_time": "2021-09-06T13:18:44.892117",
     "exception": false,
     "start_time": "2021-09-06T13:18:43.010836",
     "status": "completed"
    },
    "tags": []
   },
   "outputs": [],
   "source": [
    "stemmer = nltk.stem.PorterStemmer()\n",
    "train_data[\"text\"]=train_data[\"text\"].apply(lambda x:\" \".join(stemmer.stem(token) for token in x))\n",
    "test_data[\"text\"]=test_data[\"text\"].apply(lambda x:\" \".join(stemmer.stem(token) for token in x))"
   ]
  },
  {
   "cell_type": "code",
   "execution_count": 23,
   "id": "573c9441",
   "metadata": {
    "execution": {
     "iopub.execute_input": "2021-09-06T13:18:44.972066Z",
     "iopub.status.busy": "2021-09-06T13:18:44.971251Z",
     "iopub.status.idle": "2021-09-06T13:18:44.974475Z",
     "shell.execute_reply": "2021-09-06T13:18:44.975023Z",
     "shell.execute_reply.started": "2021-09-04T14:14:42.900395Z"
    },
    "papermill": {
     "duration": 0.04869,
     "end_time": "2021-09-06T13:18:44.975185",
     "exception": false,
     "start_time": "2021-09-06T13:18:44.926495",
     "status": "completed"
    },
    "tags": []
   },
   "outputs": [
    {
     "data": {
      "text/html": [
       "<div>\n",
       "<style scoped>\n",
       "    .dataframe tbody tr th:only-of-type {\n",
       "        vertical-align: middle;\n",
       "    }\n",
       "\n",
       "    .dataframe tbody tr th {\n",
       "        vertical-align: top;\n",
       "    }\n",
       "\n",
       "    .dataframe thead th {\n",
       "        text-align: right;\n",
       "    }\n",
       "</style>\n",
       "<table border=\"1\" class=\"dataframe\">\n",
       "  <thead>\n",
       "    <tr style=\"text-align: right;\">\n",
       "      <th></th>\n",
       "      <th>text</th>\n",
       "      <th>target</th>\n",
       "    </tr>\n",
       "  </thead>\n",
       "  <tbody>\n",
       "    <tr>\n",
       "      <th>0</th>\n",
       "      <td>deed reason earthquak may allah forgiv u</td>\n",
       "      <td>1</td>\n",
       "    </tr>\n",
       "    <tr>\n",
       "      <th>1</th>\n",
       "      <td>forest fire near la rong sask canada</td>\n",
       "      <td>1</td>\n",
       "    </tr>\n",
       "    <tr>\n",
       "      <th>2</th>\n",
       "      <td>resid ask shelter place notifi offic evacu she...</td>\n",
       "      <td>1</td>\n",
       "    </tr>\n",
       "    <tr>\n",
       "      <th>3</th>\n",
       "      <td>peopl receiv wildfir evacu order california</td>\n",
       "      <td>1</td>\n",
       "    </tr>\n",
       "    <tr>\n",
       "      <th>4</th>\n",
       "      <td>got sent photo rubi alaska smoke wildfir pour ...</td>\n",
       "      <td>1</td>\n",
       "    </tr>\n",
       "    <tr>\n",
       "      <th>...</th>\n",
       "      <td>...</td>\n",
       "      <td>...</td>\n",
       "    </tr>\n",
       "    <tr>\n",
       "      <th>7608</th>\n",
       "      <td>two giant crane hold bridg collap nearbi home ...</td>\n",
       "      <td>1</td>\n",
       "    </tr>\n",
       "    <tr>\n",
       "      <th>7609</th>\n",
       "      <td>ariaahrari thetawniest control wild fire calif...</td>\n",
       "      <td>1</td>\n",
       "    </tr>\n",
       "    <tr>\n",
       "      <th>7610</th>\n",
       "      <td>utckm volcano hawaii httptcozdtoydebj</td>\n",
       "      <td>1</td>\n",
       "    </tr>\n",
       "    <tr>\n",
       "      <th>7611</th>\n",
       "      <td>polic investig ebik collid car littl portug eb...</td>\n",
       "      <td>1</td>\n",
       "    </tr>\n",
       "    <tr>\n",
       "      <th>7612</th>\n",
       "      <td>latest home raze northern california wildfir a...</td>\n",
       "      <td>1</td>\n",
       "    </tr>\n",
       "  </tbody>\n",
       "</table>\n",
       "<p>7613 rows × 2 columns</p>\n",
       "</div>"
      ],
      "text/plain": [
       "                                                   text  target\n",
       "0              deed reason earthquak may allah forgiv u       1\n",
       "1                  forest fire near la rong sask canada       1\n",
       "2     resid ask shelter place notifi offic evacu she...       1\n",
       "3          peopl receiv wildfir evacu order california        1\n",
       "4     got sent photo rubi alaska smoke wildfir pour ...       1\n",
       "...                                                 ...     ...\n",
       "7608  two giant crane hold bridg collap nearbi home ...       1\n",
       "7609  ariaahrari thetawniest control wild fire calif...       1\n",
       "7610              utckm volcano hawaii httptcozdtoydebj       1\n",
       "7611  polic investig ebik collid car littl portug eb...       1\n",
       "7612  latest home raze northern california wildfir a...       1\n",
       "\n",
       "[7613 rows x 2 columns]"
      ]
     },
     "execution_count": 23,
     "metadata": {},
     "output_type": "execute_result"
    }
   ],
   "source": [
    "train_data"
   ]
  },
  {
   "cell_type": "code",
   "execution_count": 24,
   "id": "ceb621a4",
   "metadata": {
    "execution": {
     "iopub.execute_input": "2021-09-06T13:18:45.045601Z",
     "iopub.status.busy": "2021-09-06T13:18:45.044667Z",
     "iopub.status.idle": "2021-09-06T13:18:45.055400Z",
     "shell.execute_reply": "2021-09-06T13:18:45.055908Z",
     "shell.execute_reply.started": "2021-09-04T14:14:42.918135Z"
    },
    "papermill": {
     "duration": 0.047518,
     "end_time": "2021-09-06T13:18:45.056075",
     "exception": false,
     "start_time": "2021-09-06T13:18:45.008557",
     "status": "completed"
    },
    "tags": []
   },
   "outputs": [
    {
     "data": {
      "text/html": [
       "<div>\n",
       "<style scoped>\n",
       "    .dataframe tbody tr th:only-of-type {\n",
       "        vertical-align: middle;\n",
       "    }\n",
       "\n",
       "    .dataframe tbody tr th {\n",
       "        vertical-align: top;\n",
       "    }\n",
       "\n",
       "    .dataframe thead th {\n",
       "        text-align: right;\n",
       "    }\n",
       "</style>\n",
       "<table border=\"1\" class=\"dataframe\">\n",
       "  <thead>\n",
       "    <tr style=\"text-align: right;\">\n",
       "      <th></th>\n",
       "      <th>text</th>\n",
       "    </tr>\n",
       "  </thead>\n",
       "  <tbody>\n",
       "    <tr>\n",
       "      <th>0</th>\n",
       "      <td>happen terribl car crash</td>\n",
       "    </tr>\n",
       "    <tr>\n",
       "      <th>1</th>\n",
       "      <td>heard earthquak differ citi stay safe everyon</td>\n",
       "    </tr>\n",
       "    <tr>\n",
       "      <th>2</th>\n",
       "      <td>forest fire spot pond gee flee across street c...</td>\n",
       "    </tr>\n",
       "    <tr>\n",
       "      <th>3</th>\n",
       "      <td>apocalyp light spokan wildfir</td>\n",
       "    </tr>\n",
       "    <tr>\n",
       "      <th>4</th>\n",
       "      <td>typhoon soudelor kill china taiwan</td>\n",
       "    </tr>\n",
       "    <tr>\n",
       "      <th>...</th>\n",
       "      <td>...</td>\n",
       "    </tr>\n",
       "    <tr>\n",
       "      <th>3258</th>\n",
       "      <td>earthquak safeti lo angel ûò safeti fasten xrwn</td>\n",
       "    </tr>\n",
       "    <tr>\n",
       "      <th>3259</th>\n",
       "      <td>storm ri wor last hurrican cityampoth hardest ...</td>\n",
       "    </tr>\n",
       "    <tr>\n",
       "      <th>3260</th>\n",
       "      <td>green line derail chicago httptcoutbxlcbiuy</td>\n",
       "    </tr>\n",
       "    <tr>\n",
       "      <th>3261</th>\n",
       "      <td>meg issu hazard weather outlook hwo httptcoxrb...</td>\n",
       "    </tr>\n",
       "    <tr>\n",
       "      <th>3262</th>\n",
       "      <td>cityofcalgari activ municip emerg plan yycstorm</td>\n",
       "    </tr>\n",
       "  </tbody>\n",
       "</table>\n",
       "<p>3263 rows × 1 columns</p>\n",
       "</div>"
      ],
      "text/plain": [
       "                                                   text\n",
       "0                              happen terribl car crash\n",
       "1         heard earthquak differ citi stay safe everyon\n",
       "2     forest fire spot pond gee flee across street c...\n",
       "3                         apocalyp light spokan wildfir\n",
       "4                    typhoon soudelor kill china taiwan\n",
       "...                                                 ...\n",
       "3258    earthquak safeti lo angel ûò safeti fasten xrwn\n",
       "3259  storm ri wor last hurrican cityampoth hardest ...\n",
       "3260        green line derail chicago httptcoutbxlcbiuy\n",
       "3261  meg issu hazard weather outlook hwo httptcoxrb...\n",
       "3262    cityofcalgari activ municip emerg plan yycstorm\n",
       "\n",
       "[3263 rows x 1 columns]"
      ]
     },
     "execution_count": 24,
     "metadata": {},
     "output_type": "execute_result"
    }
   ],
   "source": [
    "test_data"
   ]
  },
  {
   "cell_type": "code",
   "execution_count": 25,
   "id": "fa6fb652",
   "metadata": {
    "execution": {
     "iopub.execute_input": "2021-09-06T13:18:45.128774Z",
     "iopub.status.busy": "2021-09-06T13:18:45.127873Z",
     "iopub.status.idle": "2021-09-06T13:18:45.134484Z",
     "shell.execute_reply": "2021-09-06T13:18:45.134904Z",
     "shell.execute_reply.started": "2021-09-04T14:14:42.937339Z"
    },
    "papermill": {
     "duration": 0.044097,
     "end_time": "2021-09-06T13:18:45.135081",
     "exception": false,
     "start_time": "2021-09-06T13:18:45.090984",
     "status": "completed"
    },
    "tags": []
   },
   "outputs": [],
   "source": [
    "from sklearn.model_selection import train_test_split\n",
    "X, y = train_data['text'],train_data['target']\n",
    "X_train, X_test, y_train, y_test = train_test_split(X, y, test_size=0.2, random_state=25)"
   ]
  },
  {
   "cell_type": "code",
   "execution_count": 26,
   "id": "2d706582",
   "metadata": {
    "execution": {
     "iopub.execute_input": "2021-09-06T13:18:45.206756Z",
     "iopub.status.busy": "2021-09-06T13:18:45.205830Z",
     "iopub.status.idle": "2021-09-06T13:18:45.210918Z",
     "shell.execute_reply": "2021-09-06T13:18:45.211376Z",
     "shell.execute_reply.started": "2021-09-04T14:14:42.97644Z"
    },
    "papermill": {
     "duration": 0.042865,
     "end_time": "2021-09-06T13:18:45.211562",
     "exception": false,
     "start_time": "2021-09-06T13:18:45.168697",
     "status": "completed"
    },
    "tags": []
   },
   "outputs": [
    {
     "data": {
      "text/plain": [
       "(1523,)"
      ]
     },
     "execution_count": 26,
     "metadata": {},
     "output_type": "execute_result"
    }
   ],
   "source": [
    "X_test.shape"
   ]
  },
  {
   "cell_type": "code",
   "execution_count": 27,
   "id": "b0707764",
   "metadata": {
    "execution": {
     "iopub.execute_input": "2021-09-06T13:18:45.286131Z",
     "iopub.status.busy": "2021-09-06T13:18:45.285203Z",
     "iopub.status.idle": "2021-09-06T13:18:45.290250Z",
     "shell.execute_reply": "2021-09-06T13:18:45.290635Z",
     "shell.execute_reply.started": "2021-09-04T14:14:42.985126Z"
    },
    "papermill": {
     "duration": 0.045141,
     "end_time": "2021-09-06T13:18:45.290798",
     "exception": false,
     "start_time": "2021-09-06T13:18:45.245657",
     "status": "completed"
    },
    "tags": []
   },
   "outputs": [
    {
     "data": {
      "text/plain": [
       "(1523,)"
      ]
     },
     "execution_count": 27,
     "metadata": {},
     "output_type": "execute_result"
    }
   ],
   "source": [
    "y_test.shape"
   ]
  },
  {
   "cell_type": "code",
   "execution_count": 28,
   "id": "9368e085",
   "metadata": {
    "execution": {
     "iopub.execute_input": "2021-09-06T13:18:45.363044Z",
     "iopub.status.busy": "2021-09-06T13:18:45.362120Z",
     "iopub.status.idle": "2021-09-06T13:18:46.039665Z",
     "shell.execute_reply": "2021-09-06T13:18:46.039166Z",
     "shell.execute_reply.started": "2021-09-04T14:14:42.998669Z"
    },
    "papermill": {
     "duration": 0.714792,
     "end_time": "2021-09-06T13:18:46.039832",
     "exception": false,
     "start_time": "2021-09-06T13:18:45.325040",
     "status": "completed"
    },
    "tags": []
   },
   "outputs": [],
   "source": [
    "from sklearn.feature_extraction.text import TfidfVectorizer\n",
    "vectorizer = TfidfVectorizer(ngram_range=(1,2))\n",
    "X_train = vectorizer.fit_transform(X_train).toarray()\n",
    "X_test = vectorizer.transform(X_test).toarray()\n"
   ]
  },
  {
   "cell_type": "code",
   "execution_count": 29,
   "id": "eddad209",
   "metadata": {
    "execution": {
     "iopub.execute_input": "2021-09-06T13:18:46.118256Z",
     "iopub.status.busy": "2021-09-06T13:18:46.117319Z",
     "iopub.status.idle": "2021-09-06T13:18:46.121671Z",
     "shell.execute_reply": "2021-09-06T13:18:46.121128Z",
     "shell.execute_reply.started": "2021-09-04T14:14:43.790909Z"
    },
    "papermill": {
     "duration": 0.045461,
     "end_time": "2021-09-06T13:18:46.121796",
     "exception": false,
     "start_time": "2021-09-06T13:18:46.076335",
     "status": "completed"
    },
    "tags": []
   },
   "outputs": [
    {
     "data": {
      "text/plain": [
       "(1523, 56875)"
      ]
     },
     "execution_count": 29,
     "metadata": {},
     "output_type": "execute_result"
    }
   ],
   "source": [
    "X_test.shape"
   ]
  },
  {
   "cell_type": "code",
   "execution_count": 30,
   "id": "e694be9c",
   "metadata": {
    "execution": {
     "iopub.execute_input": "2021-09-06T13:18:46.199324Z",
     "iopub.status.busy": "2021-09-06T13:18:46.198704Z",
     "iopub.status.idle": "2021-09-06T13:18:46.202726Z",
     "shell.execute_reply": "2021-09-06T13:18:46.202261Z",
     "shell.execute_reply.started": "2021-09-04T14:14:43.799592Z"
    },
    "papermill": {
     "duration": 0.045748,
     "end_time": "2021-09-06T13:18:46.202904",
     "exception": false,
     "start_time": "2021-09-06T13:18:46.157156",
     "status": "completed"
    },
    "tags": []
   },
   "outputs": [
    {
     "data": {
      "text/plain": [
       "(6090, 56875)"
      ]
     },
     "execution_count": 30,
     "metadata": {},
     "output_type": "execute_result"
    }
   ],
   "source": [
    "X_train.shape"
   ]
  },
  {
   "cell_type": "code",
   "execution_count": 31,
   "id": "9a23df21",
   "metadata": {
    "execution": {
     "iopub.execute_input": "2021-09-06T13:18:46.279451Z",
     "iopub.status.busy": "2021-09-06T13:18:46.278856Z",
     "iopub.status.idle": "2021-09-06T13:18:46.282059Z",
     "shell.execute_reply": "2021-09-06T13:18:46.281450Z",
     "shell.execute_reply.started": "2021-09-04T14:14:43.818122Z"
    },
    "papermill": {
     "duration": 0.044028,
     "end_time": "2021-09-06T13:18:46.282196",
     "exception": false,
     "start_time": "2021-09-06T13:18:46.238168",
     "status": "completed"
    },
    "tags": []
   },
   "outputs": [],
   "source": [
    "from sklearn.linear_model import LogisticRegression\n"
   ]
  },
  {
   "cell_type": "code",
   "execution_count": 32,
   "id": "d3eac615",
   "metadata": {
    "execution": {
     "iopub.execute_input": "2021-09-06T13:18:46.358233Z",
     "iopub.status.busy": "2021-09-06T13:18:46.357614Z",
     "iopub.status.idle": "2021-09-06T13:18:51.044020Z",
     "shell.execute_reply": "2021-09-06T13:18:51.044846Z",
     "shell.execute_reply.started": "2021-09-04T14:14:43.830301Z"
    },
    "papermill": {
     "duration": 4.727154,
     "end_time": "2021-09-06T13:18:51.045116",
     "exception": false,
     "start_time": "2021-09-06T13:18:46.317962",
     "status": "completed"
    },
    "tags": []
   },
   "outputs": [],
   "source": [
    "model = LogisticRegression().fit(X_train, y_train)"
   ]
  },
  {
   "cell_type": "code",
   "execution_count": 33,
   "id": "f22e1ee6",
   "metadata": {
    "execution": {
     "iopub.execute_input": "2021-09-06T13:18:51.173647Z",
     "iopub.status.busy": "2021-09-06T13:18:51.173056Z",
     "iopub.status.idle": "2021-09-06T13:18:51.402681Z",
     "shell.execute_reply": "2021-09-06T13:18:51.403785Z",
     "shell.execute_reply.started": "2021-09-04T14:14:49.981282Z"
    },
    "papermill": {
     "duration": 0.289512,
     "end_time": "2021-09-06T13:18:51.404061",
     "exception": false,
     "start_time": "2021-09-06T13:18:51.114549",
     "status": "completed"
    },
    "tags": []
   },
   "outputs": [
    {
     "name": "stdout",
     "output_type": "stream",
     "text": [
      "0.793827971109652\n"
     ]
    }
   ],
   "source": [
    "print(model.score(X_test, y_test))"
   ]
  },
  {
   "cell_type": "code",
   "execution_count": 34,
   "id": "30cbaaa6",
   "metadata": {
    "execution": {
     "iopub.execute_input": "2021-09-06T13:18:51.531219Z",
     "iopub.status.busy": "2021-09-06T13:18:51.530332Z",
     "iopub.status.idle": "2021-09-06T13:18:51.569110Z",
     "shell.execute_reply": "2021-09-06T13:18:51.570436Z",
     "shell.execute_reply.started": "2021-09-04T14:14:50.250889Z"
    },
    "papermill": {
     "duration": 0.099509,
     "end_time": "2021-09-06T13:18:51.570692",
     "exception": false,
     "start_time": "2021-09-06T13:18:51.471183",
     "status": "completed"
    },
    "tags": []
   },
   "outputs": [],
   "source": [
    "y_pred = model.predict(X_test)"
   ]
  },
  {
   "cell_type": "code",
   "execution_count": 35,
   "id": "b2e6a0d8",
   "metadata": {
    "execution": {
     "iopub.execute_input": "2021-09-06T13:18:51.701884Z",
     "iopub.status.busy": "2021-09-06T13:18:51.701246Z",
     "iopub.status.idle": "2021-09-06T13:18:51.721386Z",
     "shell.execute_reply": "2021-09-06T13:18:51.720769Z",
     "shell.execute_reply.started": "2021-09-04T14:14:50.320902Z"
    },
    "papermill": {
     "duration": 0.082902,
     "end_time": "2021-09-06T13:18:51.721522",
     "exception": false,
     "start_time": "2021-09-06T13:18:51.638620",
     "status": "completed"
    },
    "tags": []
   },
   "outputs": [],
   "source": [
    "CM = pd.crosstab(y_test, y_pred)"
   ]
  },
  {
   "cell_type": "code",
   "execution_count": 36,
   "id": "b7775405",
   "metadata": {
    "execution": {
     "iopub.execute_input": "2021-09-06T13:18:51.799987Z",
     "iopub.status.busy": "2021-09-06T13:18:51.799162Z",
     "iopub.status.idle": "2021-09-06T13:18:51.802463Z",
     "shell.execute_reply": "2021-09-06T13:18:51.802915Z",
     "shell.execute_reply.started": "2021-09-04T14:14:50.353773Z"
    },
    "papermill": {
     "duration": 0.04607,
     "end_time": "2021-09-06T13:18:51.803068",
     "exception": false,
     "start_time": "2021-09-06T13:18:51.756998",
     "status": "completed"
    },
    "tags": []
   },
   "outputs": [
    {
     "data": {
      "text/html": [
       "<div>\n",
       "<style scoped>\n",
       "    .dataframe tbody tr th:only-of-type {\n",
       "        vertical-align: middle;\n",
       "    }\n",
       "\n",
       "    .dataframe tbody tr th {\n",
       "        vertical-align: top;\n",
       "    }\n",
       "\n",
       "    .dataframe thead th {\n",
       "        text-align: right;\n",
       "    }\n",
       "</style>\n",
       "<table border=\"1\" class=\"dataframe\">\n",
       "  <thead>\n",
       "    <tr style=\"text-align: right;\">\n",
       "      <th>col_0</th>\n",
       "      <th>0</th>\n",
       "      <th>1</th>\n",
       "    </tr>\n",
       "    <tr>\n",
       "      <th>target</th>\n",
       "      <th></th>\n",
       "      <th></th>\n",
       "    </tr>\n",
       "  </thead>\n",
       "  <tbody>\n",
       "    <tr>\n",
       "      <th>0</th>\n",
       "      <td>755</td>\n",
       "      <td>92</td>\n",
       "    </tr>\n",
       "    <tr>\n",
       "      <th>1</th>\n",
       "      <td>222</td>\n",
       "      <td>454</td>\n",
       "    </tr>\n",
       "  </tbody>\n",
       "</table>\n",
       "</div>"
      ],
      "text/plain": [
       "col_0     0    1\n",
       "target          \n",
       "0       755   92\n",
       "1       222  454"
      ]
     },
     "execution_count": 36,
     "metadata": {},
     "output_type": "execute_result"
    }
   ],
   "source": [
    "CM"
   ]
  },
  {
   "cell_type": "code",
   "execution_count": 37,
   "id": "a70262f7",
   "metadata": {
    "execution": {
     "iopub.execute_input": "2021-09-06T13:18:51.876612Z",
     "iopub.status.busy": "2021-09-06T13:18:51.875735Z",
     "iopub.status.idle": "2021-09-06T13:18:51.885986Z",
     "shell.execute_reply": "2021-09-06T13:18:51.886396Z",
     "shell.execute_reply.started": "2021-09-04T14:14:50.371006Z"
    },
    "papermill": {
     "duration": 0.04832,
     "end_time": "2021-09-06T13:18:51.886572",
     "exception": false,
     "start_time": "2021-09-06T13:18:51.838252",
     "status": "completed"
    },
    "tags": []
   },
   "outputs": [
    {
     "data": {
      "text/html": [
       "<div>\n",
       "<style scoped>\n",
       "    .dataframe tbody tr th:only-of-type {\n",
       "        vertical-align: middle;\n",
       "    }\n",
       "\n",
       "    .dataframe tbody tr th {\n",
       "        vertical-align: top;\n",
       "    }\n",
       "\n",
       "    .dataframe thead th {\n",
       "        text-align: right;\n",
       "    }\n",
       "</style>\n",
       "<table border=\"1\" class=\"dataframe\">\n",
       "  <thead>\n",
       "    <tr style=\"text-align: right;\">\n",
       "      <th></th>\n",
       "      <th>text</th>\n",
       "    </tr>\n",
       "  </thead>\n",
       "  <tbody>\n",
       "    <tr>\n",
       "      <th>0</th>\n",
       "      <td>happen terribl car crash</td>\n",
       "    </tr>\n",
       "    <tr>\n",
       "      <th>1</th>\n",
       "      <td>heard earthquak differ citi stay safe everyon</td>\n",
       "    </tr>\n",
       "    <tr>\n",
       "      <th>2</th>\n",
       "      <td>forest fire spot pond gee flee across street c...</td>\n",
       "    </tr>\n",
       "    <tr>\n",
       "      <th>3</th>\n",
       "      <td>apocalyp light spokan wildfir</td>\n",
       "    </tr>\n",
       "    <tr>\n",
       "      <th>4</th>\n",
       "      <td>typhoon soudelor kill china taiwan</td>\n",
       "    </tr>\n",
       "    <tr>\n",
       "      <th>...</th>\n",
       "      <td>...</td>\n",
       "    </tr>\n",
       "    <tr>\n",
       "      <th>3258</th>\n",
       "      <td>earthquak safeti lo angel ûò safeti fasten xrwn</td>\n",
       "    </tr>\n",
       "    <tr>\n",
       "      <th>3259</th>\n",
       "      <td>storm ri wor last hurrican cityampoth hardest ...</td>\n",
       "    </tr>\n",
       "    <tr>\n",
       "      <th>3260</th>\n",
       "      <td>green line derail chicago httptcoutbxlcbiuy</td>\n",
       "    </tr>\n",
       "    <tr>\n",
       "      <th>3261</th>\n",
       "      <td>meg issu hazard weather outlook hwo httptcoxrb...</td>\n",
       "    </tr>\n",
       "    <tr>\n",
       "      <th>3262</th>\n",
       "      <td>cityofcalgari activ municip emerg plan yycstorm</td>\n",
       "    </tr>\n",
       "  </tbody>\n",
       "</table>\n",
       "<p>3263 rows × 1 columns</p>\n",
       "</div>"
      ],
      "text/plain": [
       "                                                   text\n",
       "0                              happen terribl car crash\n",
       "1         heard earthquak differ citi stay safe everyon\n",
       "2     forest fire spot pond gee flee across street c...\n",
       "3                         apocalyp light spokan wildfir\n",
       "4                    typhoon soudelor kill china taiwan\n",
       "...                                                 ...\n",
       "3258    earthquak safeti lo angel ûò safeti fasten xrwn\n",
       "3259  storm ri wor last hurrican cityampoth hardest ...\n",
       "3260        green line derail chicago httptcoutbxlcbiuy\n",
       "3261  meg issu hazard weather outlook hwo httptcoxrb...\n",
       "3262    cityofcalgari activ municip emerg plan yycstorm\n",
       "\n",
       "[3263 rows x 1 columns]"
      ]
     },
     "execution_count": 37,
     "metadata": {},
     "output_type": "execute_result"
    }
   ],
   "source": [
    "test_data"
   ]
  },
  {
   "cell_type": "code",
   "execution_count": 38,
   "id": "bcdb8c90",
   "metadata": {
    "execution": {
     "iopub.execute_input": "2021-09-06T13:18:51.961711Z",
     "iopub.status.busy": "2021-09-06T13:18:51.960852Z",
     "iopub.status.idle": "2021-09-06T13:18:51.965415Z",
     "shell.execute_reply": "2021-09-06T13:18:51.964883Z",
     "shell.execute_reply.started": "2021-09-04T14:14:50.396105Z"
    },
    "papermill": {
     "duration": 0.04298,
     "end_time": "2021-09-06T13:18:51.965546",
     "exception": false,
     "start_time": "2021-09-06T13:18:51.922566",
     "status": "completed"
    },
    "tags": []
   },
   "outputs": [],
   "source": [
    "test_data=test_data['text']"
   ]
  },
  {
   "cell_type": "code",
   "execution_count": 39,
   "id": "bbbbff5a",
   "metadata": {
    "execution": {
     "iopub.execute_input": "2021-09-06T13:18:52.042709Z",
     "iopub.status.busy": "2021-09-06T13:18:52.042130Z",
     "iopub.status.idle": "2021-09-06T13:18:52.044714Z",
     "shell.execute_reply": "2021-09-06T13:18:52.045163Z",
     "shell.execute_reply.started": "2021-09-04T14:14:50.40494Z"
    },
    "papermill": {
     "duration": 0.044075,
     "end_time": "2021-09-06T13:18:52.045316",
     "exception": false,
     "start_time": "2021-09-06T13:18:52.001241",
     "status": "completed"
    },
    "tags": []
   },
   "outputs": [
    {
     "data": {
      "text/plain": [
       "0                                happen terribl car crash\n",
       "1           heard earthquak differ citi stay safe everyon\n",
       "2       forest fire spot pond gee flee across street c...\n",
       "3                           apocalyp light spokan wildfir\n",
       "4                      typhoon soudelor kill china taiwan\n",
       "                              ...                        \n",
       "3258      earthquak safeti lo angel ûò safeti fasten xrwn\n",
       "3259    storm ri wor last hurrican cityampoth hardest ...\n",
       "3260          green line derail chicago httptcoutbxlcbiuy\n",
       "3261    meg issu hazard weather outlook hwo httptcoxrb...\n",
       "3262      cityofcalgari activ municip emerg plan yycstorm\n",
       "Name: text, Length: 3263, dtype: object"
      ]
     },
     "execution_count": 39,
     "metadata": {},
     "output_type": "execute_result"
    }
   ],
   "source": [
    "test_data"
   ]
  },
  {
   "cell_type": "code",
   "execution_count": 40,
   "id": "04b8f908",
   "metadata": {
    "execution": {
     "iopub.execute_input": "2021-09-06T13:18:52.120489Z",
     "iopub.status.busy": "2021-09-06T13:18:52.119902Z",
     "iopub.status.idle": "2021-09-06T13:18:52.306436Z",
     "shell.execute_reply": "2021-09-06T13:18:52.306884Z",
     "shell.execute_reply.started": "2021-09-04T14:14:50.424685Z"
    },
    "papermill": {
     "duration": 0.226076,
     "end_time": "2021-09-06T13:18:52.307060",
     "exception": false,
     "start_time": "2021-09-06T13:18:52.080984",
     "status": "completed"
    },
    "tags": []
   },
   "outputs": [],
   "source": [
    "test_data_v = vectorizer.transform(test_data).toarray()"
   ]
  },
  {
   "cell_type": "code",
   "execution_count": 41,
   "id": "4a372fad",
   "metadata": {
    "execution": {
     "iopub.execute_input": "2021-09-06T13:18:52.383104Z",
     "iopub.status.busy": "2021-09-06T13:18:52.382503Z",
     "iopub.status.idle": "2021-09-06T13:18:53.460268Z",
     "shell.execute_reply": "2021-09-06T13:18:53.460704Z",
     "shell.execute_reply.started": "2021-09-04T14:14:50.67641Z"
    },
    "papermill": {
     "duration": 1.117546,
     "end_time": "2021-09-06T13:18:53.460902",
     "exception": false,
     "start_time": "2021-09-06T13:18:52.343356",
     "status": "completed"
    },
    "tags": []
   },
   "outputs": [],
   "source": [
    "test_data_v=np.array(test_data_v)"
   ]
  },
  {
   "cell_type": "code",
   "execution_count": 42,
   "id": "b2bc6e8f",
   "metadata": {
    "execution": {
     "iopub.execute_input": "2021-09-06T13:18:53.537992Z",
     "iopub.status.busy": "2021-09-06T13:18:53.537383Z",
     "iopub.status.idle": "2021-09-06T13:18:53.542885Z",
     "shell.execute_reply": "2021-09-06T13:18:53.543332Z",
     "shell.execute_reply.started": "2021-09-04T14:14:52.056131Z"
    },
    "papermill": {
     "duration": 0.045714,
     "end_time": "2021-09-06T13:18:53.543496",
     "exception": false,
     "start_time": "2021-09-06T13:18:53.497782",
     "status": "completed"
    },
    "tags": []
   },
   "outputs": [
    {
     "data": {
      "text/plain": [
       "array([[0., 0., 0., ..., 0., 0., 0.],\n",
       "       [0., 0., 0., ..., 0., 0., 0.],\n",
       "       [0., 0., 0., ..., 0., 0., 0.],\n",
       "       ...,\n",
       "       [0., 0., 0., ..., 0., 0., 0.],\n",
       "       [0., 0., 0., ..., 0., 0., 0.],\n",
       "       [0., 0., 0., ..., 0., 0., 0.]])"
      ]
     },
     "execution_count": 42,
     "metadata": {},
     "output_type": "execute_result"
    }
   ],
   "source": [
    "test_data_v"
   ]
  },
  {
   "cell_type": "code",
   "execution_count": 43,
   "id": "fe48d88b",
   "metadata": {
    "execution": {
     "iopub.execute_input": "2021-09-06T13:18:53.619467Z",
     "iopub.status.busy": "2021-09-06T13:18:53.618615Z",
     "iopub.status.idle": "2021-09-06T13:18:53.669355Z",
     "shell.execute_reply": "2021-09-06T13:18:53.668736Z",
     "shell.execute_reply.started": "2021-09-04T14:14:52.065049Z"
    },
    "papermill": {
     "duration": 0.08976,
     "end_time": "2021-09-06T13:18:53.669497",
     "exception": false,
     "start_time": "2021-09-06T13:18:53.579737",
     "status": "completed"
    },
    "tags": []
   },
   "outputs": [
    {
     "data": {
      "text/plain": [
       "56875"
      ]
     },
     "execution_count": 43,
     "metadata": {},
     "output_type": "execute_result"
    }
   ],
   "source": [
    "len(vectorizer.get_feature_names())"
   ]
  },
  {
   "cell_type": "code",
   "execution_count": 44,
   "id": "3aedcda1",
   "metadata": {
    "execution": {
     "iopub.execute_input": "2021-09-06T13:18:53.747577Z",
     "iopub.status.busy": "2021-09-06T13:18:53.746965Z",
     "iopub.status.idle": "2021-09-06T13:18:53.937987Z",
     "shell.execute_reply": "2021-09-06T13:18:53.938789Z",
     "shell.execute_reply.started": "2021-09-04T14:14:52.129424Z"
    },
    "papermill": {
     "duration": 0.232852,
     "end_time": "2021-09-06T13:18:53.939076",
     "exception": false,
     "start_time": "2021-09-06T13:18:53.706224",
     "status": "completed"
    },
    "tags": []
   },
   "outputs": [],
   "source": [
    "test_data_pred=model.predict(test_data_v)"
   ]
  },
  {
   "cell_type": "code",
   "execution_count": 45,
   "id": "f56456b2",
   "metadata": {
    "execution": {
     "iopub.execute_input": "2021-09-06T13:18:54.073176Z",
     "iopub.status.busy": "2021-09-06T13:18:54.072559Z",
     "iopub.status.idle": "2021-09-06T13:18:54.075025Z",
     "shell.execute_reply": "2021-09-06T13:18:54.075439Z",
     "shell.execute_reply.started": "2021-09-04T14:14:52.34806Z"
    },
    "papermill": {
     "duration": 0.063999,
     "end_time": "2021-09-06T13:18:54.075605",
     "exception": false,
     "start_time": "2021-09-06T13:18:54.011606",
     "status": "completed"
    },
    "tags": []
   },
   "outputs": [
    {
     "data": {
      "text/plain": [
       "array([1, 1, 1, ..., 1, 1, 1])"
      ]
     },
     "execution_count": 45,
     "metadata": {},
     "output_type": "execute_result"
    }
   ],
   "source": [
    "test_data_pred"
   ]
  },
  {
   "cell_type": "code",
   "execution_count": 46,
   "id": "8768a853",
   "metadata": {
    "execution": {
     "iopub.execute_input": "2021-09-06T13:18:54.153531Z",
     "iopub.status.busy": "2021-09-06T13:18:54.152836Z",
     "iopub.status.idle": "2021-09-06T13:18:54.167992Z",
     "shell.execute_reply": "2021-09-06T13:18:54.167461Z",
     "shell.execute_reply.started": "2021-09-04T14:14:52.3581Z"
    },
    "papermill": {
     "duration": 0.054656,
     "end_time": "2021-09-06T13:18:54.168129",
     "exception": false,
     "start_time": "2021-09-06T13:18:54.113473",
     "status": "completed"
    },
    "tags": []
   },
   "outputs": [],
   "source": [
    "test_data=pd.read_csv(\"../input/nlp-getting-started/test.csv\")"
   ]
  },
  {
   "cell_type": "code",
   "execution_count": 47,
   "id": "90694fd3",
   "metadata": {
    "execution": {
     "iopub.execute_input": "2021-09-06T13:18:54.244627Z",
     "iopub.status.busy": "2021-09-06T13:18:54.244059Z",
     "iopub.status.idle": "2021-09-06T13:18:54.248208Z",
     "shell.execute_reply": "2021-09-06T13:18:54.248704Z",
     "shell.execute_reply.started": "2021-09-04T14:14:52.38774Z"
    },
    "papermill": {
     "duration": 0.043913,
     "end_time": "2021-09-06T13:18:54.248885",
     "exception": false,
     "start_time": "2021-09-06T13:18:54.204972",
     "status": "completed"
    },
    "tags": []
   },
   "outputs": [],
   "source": [
    "test_data['target']=test_data_pred"
   ]
  },
  {
   "cell_type": "code",
   "execution_count": 48,
   "id": "87c3520a",
   "metadata": {
    "execution": {
     "iopub.execute_input": "2021-09-06T13:18:54.325017Z",
     "iopub.status.busy": "2021-09-06T13:18:54.324382Z",
     "iopub.status.idle": "2021-09-06T13:18:54.336928Z",
     "shell.execute_reply": "2021-09-06T13:18:54.336409Z",
     "shell.execute_reply.started": "2021-09-04T14:14:52.396367Z"
    },
    "papermill": {
     "duration": 0.051304,
     "end_time": "2021-09-06T13:18:54.337063",
     "exception": false,
     "start_time": "2021-09-06T13:18:54.285759",
     "status": "completed"
    },
    "tags": []
   },
   "outputs": [],
   "source": [
    "csv_data=test_data[['id','target']]\n",
    "csv_data.to_csv('final_submission.csv', index = False)"
   ]
  }
 ],
 "metadata": {
  "kernelspec": {
   "display_name": "Python 3",
   "language": "python",
   "name": "python3"
  },
  "language_info": {
   "codemirror_mode": {
    "name": "ipython",
    "version": 3
   },
   "file_extension": ".py",
   "mimetype": "text/x-python",
   "name": "python",
   "nbconvert_exporter": "python",
   "pygments_lexer": "ipython3",
   "version": "3.7.10"
  },
  "papermill": {
   "default_parameters": {},
   "duration": 27.698482,
   "end_time": "2021-09-06T13:18:55.383939",
   "environment_variables": {},
   "exception": null,
   "input_path": "__notebook__.ipynb",
   "output_path": "__notebook__.ipynb",
   "parameters": {},
   "start_time": "2021-09-06T13:18:27.685457",
   "version": "2.3.3"
  }
 },
 "nbformat": 4,
 "nbformat_minor": 5
}
