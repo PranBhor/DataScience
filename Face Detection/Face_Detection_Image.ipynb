{
 "cells": [
  {
   "cell_type": "code",
   "execution_count": 11,
   "id": "4a16aa9f",
   "metadata": {},
   "outputs": [],
   "source": [
    "#import Library\n",
    "import cv2\n",
    "from PIL import Image\n",
    "import requests"
   ]
  },
  {
   "cell_type": "code",
   "execution_count": 12,
   "id": "6bb9dce2",
   "metadata": {},
   "outputs": [],
   "source": [
    "#Uploading front face Xml file\n",
    "face_Cascade = cv2.CascadeClassifier(r\"/haarcascade_frontalface_default.xml")"
   ]
  },
  {
   "cell_type": "code",
   "execution_count": 13,
   "id": "0260095d",
   "metadata": {},
   "outputs": [],
   "source": [
    "#Read the image\n",
    "image = cv2.imread(r'C:\\Users\\HP\\Downloads\\qd.jpg')"
   ]
  },
  {
   "cell_type": "code",
   "execution_count": 14,
   "id": "cec73f29",
   "metadata": {},
   "outputs": [
    {
     "data": {
      "text/plain": [
       "-1"
      ]
     },
     "execution_count": 14,
     "metadata": {},
     "output_type": "execute_result"
    }
   ],
   "source": [
    "#Image View\n",
    "cv2.imshow(\"Result\", image)\n",
    "cv2.waitKey(0)"
   ]
  },
  {
   "cell_type": "code",
   "execution_count": 15,
   "id": "f68aa359",
   "metadata": {},
   "outputs": [],
   "source": [
    "#Coverting image to gray scale\n",
    "imgGray = cv2.cvtColor(image, cv2.COLOR_BGR2GRAY)"
   ]
  },
  {
   "cell_type": "code",
   "execution_count": 16,
   "id": "92d36b17",
   "metadata": {},
   "outputs": [],
   "source": [
    "#Face detetction \n",
    "faces = face_Cascade.detectMultiScale(imgGray,1.1, 4)"
   ]
  },
  {
   "cell_type": "code",
   "execution_count": 17,
   "id": "13c77a2f",
   "metadata": {},
   "outputs": [],
   "source": [
    "#Show Rectangle on detected face\n",
    "for (x, y, w, h) in faces:\n",
    "    cv2.rectangle(image, (x, y), (x + w, y + h), (255, 0, 0), 2)"
   ]
  },
  {
   "cell_type": "code",
   "execution_count": 18,
   "id": "6557a643",
   "metadata": {},
   "outputs": [
    {
     "data": {
      "text/plain": [
       "-1"
      ]
     },
     "execution_count": 18,
     "metadata": {},
     "output_type": "execute_result"
    }
   ],
   "source": [
    "#Show detected face\n",
    "cv2.imshow(\"Result\", image)\n",
    "cv2.waitKey(0)"
   ]
  },
  {
   "cell_type": "code",
   "execution_count": 19,
   "id": "30e74509",
   "metadata": {},
   "outputs": [
    {
     "name": "stdout",
     "output_type": "stream",
     "text": [
      "Face Counts 2\n"
     ]
    }
   ],
   "source": [
    "#Count the number of faces\n",
    "print(\"Face Counts\",len(faces))"
   ]
  },
  {
   "cell_type": "code",
   "execution_count": null,
   "id": "ad717f7e",
   "metadata": {},
   "outputs": [],
   "source": []
  }
 ],
 "metadata": {
  "kernelspec": {
   "display_name": "Python 3",
   "language": "python",
   "name": "python3"
  },
  "language_info": {
   "codemirror_mode": {
    "name": "ipython",
    "version": 3
   },
   "file_extension": ".py",
   "mimetype": "text/x-python",
   "name": "python",
   "nbconvert_exporter": "python",
   "pygments_lexer": "ipython3",
   "version": "3.8.8"
  }
 },
 "nbformat": 4,
 "nbformat_minor": 5
}
